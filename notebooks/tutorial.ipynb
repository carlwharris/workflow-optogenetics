{
 "cells": [
  {
   "attachments": {},
   "cell_type": "markdown",
   "metadata": {},
   "source": [
    "# Manage optogenetics experiments with DataJoint Elements\n",
    "\n",
    "In this tutorial, we will walk through storing optogenetic stimulus data with the DataJoint Workflow for Optogenetics.\n",
    "\n",
    "We will explain the following concepts as they relate to this workflow:\n",
    "- What is an Element versus a Workflow?\n",
    "- Plot the workflow with `dj.Diagram`\n",
    "- Insert data into tables\n",
    "- Query table contents\n",
    "- Fetch table contents\n",
    "- Run the workflow for your experiments\n",
    "\n",
    "For detailed documentation and tutorials on general DataJoint principles that support collaboration, automation, reproducibility, and visualizations:\n",
    "\n",
    "- [DataJoint Interactive Tutorials](https://github.com/datajoint/datajoint-tutorials) - Fundamentals including table tiers, query operations, fetch operations, automated computations with the `make` function, etc.\n",
    "\n",
    "- [DataJoint Core - Documentation](https://datajoint.com/docs/core/) - Relational data model principles\n",
    "\n",
    "- [DataJoint API for Python - Documentation](https://datajoint.com/docs/core/datajoint-python/)\n",
    "\n",
    "- [DataJoint Element for Optogenetics - Documentation](https://datajoint.com/docs/elements/element-optogenetics/)\n",
    "\n",
    "Let's start by importing the packages necessary to run this workflow. "
   ]
  },
  {
   "cell_type": "code",
   "execution_count": 1,
   "metadata": {},
   "outputs": [],
   "source": [
    "import datajoint as dj"
   ]
  },
  {
   "attachments": {},
   "cell_type": "markdown",
   "metadata": {},
   "source": [
    "## The DataJoint Workflow for Optogenetics is assembled from 4 DataJoint Elements\n",
    "\n",
    "| Element | Source Code | Documentation | Description |\n",
    "| -- | -- | -- | -- |\n",
    "| Element Lab | [Link](https://github.com/datajoint/element-lab) | [Link](https://datajoint.com/docs/elements/element-lab) | Lab management related information, such as Lab, User, Project, Protocol, Source. |\n",
    "| Element Animal | [Link](https://github.com/datajoint/element-animal) | [Link](https://datajoint.com/docs/elements/element-animal) | General animal metadata and surgery information. |\n",
    "| Element Session | [Link](https://github.com/datajoint/element-session) | [Link](https://datajoint.com/docs/elements/element-session) | General information of experimental sessions. |\n",
    "| Element Optogenetics | [Link](https://github.com/datajoint/element-optogenetics) | [Link](https://datajoint.com/docs/elements/element-optogenetics) |  Optogenetics stimulus and timing data. |\n",
    "\n",
    "Each workflow is composed of multiple Elements. Each Element contains 1 or more modules, and each module declares its own schema in the database.\n",
    "\n",
    "The Elements are imported within the `workflow_optogenetics.pipeline` script.\n",
    "\n",
    "By importing the modules for the first time, the schemas and tables will be created in the database.  Once created, importing modules will not create schemas and tables again, but the existing schemas/tables can be accessed.\n",
    "\n",
    "The schema diagram (shown below) is a good reference for understanding the order of the tables within the workflow.\n",
    "\n",
    "Let's activate the Elements."
   ]
  },
  {
   "cell_type": "code",
   "execution_count": 2,
   "metadata": {},
   "outputs": [
    {
     "name": "stderr",
     "output_type": "stream",
     "text": [
      "[2023-04-17 02:17:46,707][WARNING]: lab.Project and related tables will be removed in a future version of Element Lab. Please use the project schema.\n",
      "[2023-04-17 02:17:46,711][INFO]: Connecting root@fakeservices.datajoint.io:3306\n",
      "[2023-04-17 02:17:46,727][INFO]: Connected root@fakeservices.datajoint.io:3306\n"
     ]
    }
   ],
   "source": [
    "from workflow_optogenetics.pipeline import lab, subject, surgery, session, optogenetics, Device"
   ]
  },
  {
   "attachments": {},
   "cell_type": "markdown",
   "metadata": {},
   "source": [
    "## Diagram\n",
    "\n",
    "We can plot the diagram of tables within multiple schemas and their dependencies using `dj.Diagram()`.  For details, see the [documentation](https://datajoint.com/docs/core/concepts/getting-started/diagrams/)."
   ]
  },
  {
   "cell_type": "code",
   "execution_count": 4,
   "metadata": {},
   "outputs": [
    {
     "data": {
      "image/svg+xml": [
       "<svg xmlns=\"http://www.w3.org/2000/svg\" xmlns:xlink=\"http://www.w3.org/1999/xlink\" width=\"1013pt\" height=\"327pt\" viewBox=\"0.00 0.00 1013.00 327.00\">\n",
       "<g id=\"graph0\" class=\"graph\" transform=\"scale(1 1) rotate(0) translate(4 323)\">\n",
       "<title>%3</title>\n",
       "<polygon fill=\"white\" stroke=\"transparent\" points=\"-4,4 -4,-323 1009,-323 1009,4 -4,4\"/>\n",
       "<!-- optogenetics.OptoProtocol -->\n",
       "<g id=\"node1\" class=\"node\">\n",
       "<title>optogenetics.OptoProtocol</title>\n",
       "<g id=\"a_node1\"><a xlink:title=\"→ session.Session\rprotocol_id          \r------------------------------\r→ optogenetics.OptoStimParams\r→ surgery.Implantation\r→ [nullable] Device\rprotocol_description=&quot;&quot; \r\">\n",
       "<polygon fill=\"#00ff00\" fill-opacity=\"0.188235\" stroke=\"#00ff00\" stroke-opacity=\"0.188235\" points=\"900,-106 742,-106 742,-71 900,-71 900,-106\"/>\n",
       "<text text-anchor=\"start\" x=\"750\" y=\"-86.4\" font-family=\"arial\" text-decoration=\"underline\" font-size=\"12.00\" fill=\"darkgreen\">optogenetics.OptoProtocol</text>\n",
       "</a>\n",
       "</g>\n",
       "</g>\n",
       "<!-- optogenetics.OptoEvent -->\n",
       "<g id=\"node11\" class=\"node\">\n",
       "<title>optogenetics.OptoEvent</title>\n",
       "<g id=\"a_node11\"><a xlink:title=\"→ optogenetics.OptoProtocol\rstim_start_time      \r------------------------------\rstim_end_time        \r\">\n",
       "<polygon fill=\"#00ff00\" fill-opacity=\"0.188235\" stroke=\"#00ff00\" stroke-opacity=\"0.188235\" points=\"893,-35 749,-35 749,0 893,0 893,-35\"/>\n",
       "<text text-anchor=\"start\" x=\"757\" y=\"-15.4\" font-family=\"arial\" text-decoration=\"underline\" font-size=\"12.00\" fill=\"darkgreen\">optogenetics.OptoEvent</text>\n",
       "</a>\n",
       "</g>\n",
       "</g>\n",
       "<!-- optogenetics.OptoProtocol&#45;&gt;optogenetics.OptoEvent -->\n",
       "<g id=\"edge1\" class=\"edge\">\n",
       "<title>optogenetics.OptoProtocol-&gt;optogenetics.OptoEvent</title>\n",
       "<path fill=\"none\" stroke=\"#000000\" stroke-width=\"0.75\" stroke-opacity=\"0.250980\" d=\"M821,-70.8C821,-59.95 821,-45.87 821,-35.05\"/>\n",
       "</g>\n",
       "<!-- optogenetics.OptoWaveform -->\n",
       "<g id=\"node2\" class=\"node\">\n",
       "<title>optogenetics.OptoWaveform</title>\n",
       "<g id=\"a_node2\"><a xlink:title=\"waveform_name        \r------------------------------\r→ optogenetics.OptoWaveformType\rnormalized_waveform=null \rwaveform_description=&quot;&quot; \r\">\n",
       "<polygon fill=\"#000000\" fill-opacity=\"0.125490\" stroke=\"transparent\" points=\"541,-248 401,-248 401,-213 541,-213 541,-248\"/>\n",
       "<text text-anchor=\"start\" x=\"409\" y=\"-229\" font-family=\"arial\" text-decoration=\"underline\" font-size=\"10.00\">optogenetics.OptoWaveform</text>\n",
       "</a>\n",
       "</g>\n",
       "</g>\n",
       "<!-- optogenetics.OptoWaveform.Square -->\n",
       "<g id=\"node3\" class=\"node\">\n",
       "<title>optogenetics.OptoWaveform.Square</title>\n",
       "<g id=\"a_node3\"><a xlink:title=\"→ optogenetics.OptoWaveform\r------------------------------\ron_proportion        \roff_proportion       \r\">\n",
       "<polygon fill=\"transparent\" stroke=\"transparent\" points=\"174,-169 0,-169 0,-150 174,-150 174,-169\"/>\n",
       "<text text-anchor=\"middle\" x=\"87\" y=\"-157\" font-family=\"arial\" font-size=\"10.00\">optogenetics.OptoWaveform.Square</text>\n",
       "</a>\n",
       "</g>\n",
       "</g>\n",
       "<!-- optogenetics.OptoWaveform&#45;&gt;optogenetics.OptoWaveform.Square -->\n",
       "<g id=\"edge2\" class=\"edge\">\n",
       "<title>optogenetics.OptoWaveform-&gt;optogenetics.OptoWaveform.Square</title>\n",
       "<path fill=\"none\" stroke=\"#000000\" stroke-width=\"2\" stroke-opacity=\"0.250980\" d=\"M400.57,-216.84C323.27,-202.96 201.32,-181.04 134.56,-169.05\"/>\n",
       "</g>\n",
       "<!-- optogenetics.OptoStimParams -->\n",
       "<g id=\"node5\" class=\"node\">\n",
       "<title>optogenetics.OptoStimParams</title>\n",
       "<g id=\"a_node5\"><a xlink:title=\"opto_params_id       \r------------------------------\r→ optogenetics.OptoWaveform\rwavelength           \rpower=null           \rlight_intensity=null \rfrequency            \rduration             \r\">\n",
       "<polygon fill=\"#00ff00\" fill-opacity=\"0.188235\" stroke=\"#00ff00\" stroke-opacity=\"0.188235\" points=\"371.5,-177 192.5,-177 192.5,-142 371.5,-142 371.5,-177\"/>\n",
       "<text text-anchor=\"start\" x=\"200.5\" y=\"-157.4\" font-family=\"arial\" text-decoration=\"underline\" font-size=\"12.00\" fill=\"darkgreen\">optogenetics.OptoStimParams</text>\n",
       "</a>\n",
       "</g>\n",
       "</g>\n",
       "<!-- optogenetics.OptoWaveform&#45;&gt;optogenetics.OptoStimParams -->\n",
       "<g id=\"edge3\" class=\"edge\">\n",
       "<title>optogenetics.OptoWaveform-&gt;optogenetics.OptoStimParams</title>\n",
       "<path fill=\"none\" stroke=\"#000000\" stroke-width=\"0.75\" stroke-dasharray=\"5,2\" stroke-opacity=\"0.250980\" d=\"M425.73,-212.97C395.92,-202.09 357.03,-187.89 327.23,-177.01\"/>\n",
       "</g>\n",
       "<!-- optogenetics.OptoWaveform.Sine -->\n",
       "<g id=\"node6\" class=\"node\">\n",
       "<title>optogenetics.OptoWaveform.Sine</title>\n",
       "<g id=\"a_node6\"><a xlink:title=\"→ optogenetics.OptoWaveform\r------------------------------\rnumber_of_cycles     \rstarting_phase=0.00  \r\">\n",
       "<polygon fill=\"transparent\" stroke=\"transparent\" points=\"552.5,-169 389.5,-169 389.5,-150 552.5,-150 552.5,-169\"/>\n",
       "<text text-anchor=\"middle\" x=\"471\" y=\"-157\" font-family=\"arial\" font-size=\"10.00\">optogenetics.OptoWaveform.Sine</text>\n",
       "</a>\n",
       "</g>\n",
       "</g>\n",
       "<!-- optogenetics.OptoWaveform&#45;&gt;optogenetics.OptoWaveform.Sine -->\n",
       "<g id=\"edge4\" class=\"edge\">\n",
       "<title>optogenetics.OptoWaveform-&gt;optogenetics.OptoWaveform.Sine</title>\n",
       "<path fill=\"none\" stroke=\"#000000\" stroke-width=\"2\" stroke-opacity=\"0.250980\" d=\"M471,-212.8C471,-199.08 471,-180.19 471,-169.27\"/>\n",
       "</g>\n",
       "<!-- optogenetics.OptoWaveform.Ramp -->\n",
       "<g id=\"node8\" class=\"node\">\n",
       "<title>optogenetics.OptoWaveform.Ramp</title>\n",
       "<g id=\"a_node8\"><a xlink:title=\"→ optogenetics.OptoWaveform\r------------------------------\rramp_up_proportion   \rramp_down_proportion \r\">\n",
       "<polygon fill=\"transparent\" stroke=\"transparent\" points=\"741,-169 571,-169 571,-150 741,-150 741,-169\"/>\n",
       "<text text-anchor=\"middle\" x=\"656\" y=\"-157\" font-family=\"arial\" font-size=\"10.00\">optogenetics.OptoWaveform.Ramp</text>\n",
       "</a>\n",
       "</g>\n",
       "</g>\n",
       "<!-- optogenetics.OptoWaveform&#45;&gt;optogenetics.OptoWaveform.Ramp -->\n",
       "<g id=\"edge5\" class=\"edge\">\n",
       "<title>optogenetics.OptoWaveform-&gt;optogenetics.OptoWaveform.Ramp</title>\n",
       "<path fill=\"none\" stroke=\"#000000\" stroke-width=\"2\" stroke-opacity=\"0.250980\" d=\"M515.31,-212.97C552.4,-199.14 603.84,-179.95 633.14,-169.03\"/>\n",
       "</g>\n",
       "<!-- subject.Subject -->\n",
       "<g id=\"node4\" class=\"node\">\n",
       "<title>subject.Subject</title>\n",
       "<g id=\"a_node4\"><a xlink:title=\"subject              \r------------------------------\rsubject_nickname=&quot;&quot;  \rsex                  \rsubject_birth_date   \rsubject_description=&quot;&quot; \r\">\n",
       "<polygon fill=\"#00ff00\" fill-opacity=\"0.188235\" stroke=\"#00ff00\" stroke-opacity=\"0.188235\" points=\"936,-248 838,-248 838,-213 936,-213 936,-248\"/>\n",
       "<text text-anchor=\"start\" x=\"846\" y=\"-228.4\" font-family=\"arial\" text-decoration=\"underline\" font-size=\"12.00\" fill=\"darkgreen\">subject.Subject</text>\n",
       "</a>\n",
       "</g>\n",
       "</g>\n",
       "<!-- surgery.Implantation -->\n",
       "<g id=\"node9\" class=\"node\">\n",
       "<title>surgery.Implantation</title>\n",
       "<g id=\"a_node9\"><a xlink:title=\"→ subject.Subject\rimplant_date         \r→ surgery.ImplantationType\r→ surgery.BrainRegion.proj(target_region=&quot;region_acronym&quot;)\r→ surgery.Hemisphere.proj(target_hemisphere=&quot;hemisphere&quot;)\r------------------------------\r→ lab.User.proj(surgeon=&quot;user&quot;)\rimplant_comment=&quot;&quot;   \r\">\n",
       "<polygon fill=\"#00ff00\" fill-opacity=\"0.188235\" stroke=\"#00ff00\" stroke-opacity=\"0.188235\" points=\"883,-177 759,-177 759,-142 883,-142 883,-177\"/>\n",
       "<text text-anchor=\"start\" x=\"767\" y=\"-157.4\" font-family=\"arial\" text-decoration=\"underline\" font-size=\"12.00\" fill=\"darkgreen\">surgery.Implantation</text>\n",
       "</a>\n",
       "</g>\n",
       "</g>\n",
       "<!-- subject.Subject&#45;&gt;surgery.Implantation -->\n",
       "<g id=\"edge6\" class=\"edge\">\n",
       "<title>subject.Subject-&gt;surgery.Implantation</title>\n",
       "<path fill=\"none\" stroke=\"#000000\" stroke-width=\"0.75\" stroke-opacity=\"0.250980\" d=\"M871.02,-212.8C860.65,-201.95 847.18,-187.87 836.83,-177.05\"/>\n",
       "</g>\n",
       "<!-- session.Session -->\n",
       "<g id=\"node10\" class=\"node\">\n",
       "<title>session.Session</title>\n",
       "<g id=\"a_node10\"><a xlink:title=\"→ subject.Subject\rsession_id           \r------------------------------\rsession_datetime     \r\">\n",
       "<polygon fill=\"#00ff00\" fill-opacity=\"0.188235\" stroke=\"#00ff00\" stroke-opacity=\"0.188235\" points=\"1005,-177 901,-177 901,-142 1005,-142 1005,-177\"/>\n",
       "<text text-anchor=\"start\" x=\"909\" y=\"-157.4\" font-family=\"arial\" text-decoration=\"underline\" font-size=\"12.00\" fill=\"darkgreen\">session.Session</text>\n",
       "</a>\n",
       "</g>\n",
       "</g>\n",
       "<!-- subject.Subject&#45;&gt;session.Session -->\n",
       "<g id=\"edge7\" class=\"edge\">\n",
       "<title>subject.Subject-&gt;session.Session</title>\n",
       "<path fill=\"none\" stroke=\"#000000\" stroke-width=\"0.75\" stroke-opacity=\"0.250980\" d=\"M902.98,-212.8C913.35,-201.95 926.82,-187.87 937.17,-177.05\"/>\n",
       "</g>\n",
       "<!-- optogenetics.OptoStimParams&#45;&gt;optogenetics.OptoProtocol -->\n",
       "<g id=\"edge8\" class=\"edge\">\n",
       "<title>optogenetics.OptoStimParams-&gt;optogenetics.OptoProtocol</title>\n",
       "<path fill=\"none\" stroke=\"#000000\" stroke-width=\"0.75\" stroke-dasharray=\"5,2\" stroke-opacity=\"0.250980\" d=\"M371.69,-143.22C374.49,-142.8 377.27,-142.39 380,-142 506.31,-123.86 653.62,-107.23 741.98,-97.74\"/>\n",
       "</g>\n",
       "<!-- optogenetics.OptoWaveformType -->\n",
       "<g id=\"node7\" class=\"node\">\n",
       "<title>optogenetics.OptoWaveformType</title>\n",
       "<g id=\"a_node7\"><a xlink:title=\"waveform_type        \r\">\n",
       "<polygon fill=\"#000000\" fill-opacity=\"0.125490\" stroke=\"transparent\" points=\"551.5,-319 390.5,-319 390.5,-284 551.5,-284 551.5,-319\"/>\n",
       "<text text-anchor=\"start\" x=\"398.5\" y=\"-300\" font-family=\"arial\" text-decoration=\"underline\" font-size=\"10.00\">optogenetics.OptoWaveformType</text>\n",
       "</a>\n",
       "</g>\n",
       "</g>\n",
       "<!-- optogenetics.OptoWaveformType&#45;&gt;optogenetics.OptoWaveform -->\n",
       "<g id=\"edge9\" class=\"edge\">\n",
       "<title>optogenetics.OptoWaveformType-&gt;optogenetics.OptoWaveform</title>\n",
       "<path fill=\"none\" stroke=\"#000000\" stroke-width=\"0.75\" stroke-dasharray=\"5,2\" stroke-opacity=\"0.250980\" d=\"M471,-283.8C471,-272.95 471,-258.87 471,-248.05\"/>\n",
       "</g>\n",
       "<!-- surgery.Implantation&#45;&gt;optogenetics.OptoProtocol -->\n",
       "<g id=\"edge10\" class=\"edge\">\n",
       "<title>surgery.Implantation-&gt;optogenetics.OptoProtocol</title>\n",
       "<path fill=\"none\" stroke=\"#000000\" stroke-width=\"0.75\" stroke-dasharray=\"5,2\" stroke-opacity=\"0.250980\" d=\"M821,-141.8C821,-130.95 821,-116.87 821,-106.05\"/>\n",
       "</g>\n",
       "<!-- session.Session&#45;&gt;optogenetics.OptoProtocol -->\n",
       "<g id=\"edge11\" class=\"edge\">\n",
       "<title>session.Session-&gt;optogenetics.OptoProtocol</title>\n",
       "<path fill=\"none\" stroke=\"#000000\" stroke-width=\"0.75\" stroke-opacity=\"0.250980\" d=\"M921.38,-141.97C900.64,-131.13 873.6,-117 852.82,-106.13\"/>\n",
       "</g>\n",
       "</g>\n",
       "</svg>"
      ],
      "text/plain": [
       "<datajoint.diagram.Diagram at 0x7f7c24702430>"
      ]
     },
     "execution_count": 4,
     "metadata": {},
     "output_type": "execute_result"
    }
   ],
   "source": [
    "(\n",
    "    dj.Diagram(subject.Subject)\n",
    "    + dj.Diagram(surgery.Implantation)\n",
    "    + dj.Diagram(session.Session)\n",
    "    + dj.Diagram(Device)\n",
    "    + dj.Diagram(optogenetics)\n",
    ")"
   ]
  },
  {
   "attachments": {},
   "cell_type": "markdown",
   "metadata": {},
   "source": [
    "While the diagram above seems complex at first, it becomes more clear when it's approached as a hierarchy of tables that define the order in which the workflow expects to receive data in each of its tables.\n",
    "\n",
    "The tables higher up in the diagram such as `subject.Subject()` should be the first to receive data.\n",
    "\n",
    "Data is manually entered into the green, rectangular tables with the `insert1()` method.\n",
    "\n",
    "Tables connected by a solid line depend on entries from the table above it.\n",
    "\n",
    "There are 5 table tiers in DataJoint. Some of these tables appear in the diagram above.\n",
    "\n",
    "| Table tier | Color and shape | Description |\n",
    "| -- | -- | -- |\n",
    "| Manual table | Green box | Data entered from outside the pipeline, either by hand or with external helper scripts. |\n",
    "| Lookup table | Gray box | Small tables containing general facts and settings of the data pipeline; not specific to any experiment or dataset. |  \n",
    "| Imported table | Blue oval | Data ingested automatically inside the pipeline but requiring access to data outside the pipeline. |\n",
    "| Computed table | Red circle | Data computed automatically entirely inside the pipeline. |\n",
    "| Part table | Plain text | Part tables share the same tier as their master table. |"
   ]
  },
  {
   "attachments": {},
   "cell_type": "markdown",
   "metadata": {},
   "source": [
    "## Insert entries into manual tables\n",
    "\n",
    "In this section, we will insert metadata about an animal subject, experiment session, and optogenetic stimulation parameters.\n",
    "\n",
    "Let's start with the first schema and table in the schema diagram (i.e. `subject.Subject` table).\n",
    "\n",
    "Each module (e.g. `subject`) contains a schema object that enables interaction with the schema in the database."
   ]
  },
  {
   "cell_type": "code",
   "execution_count": null,
   "metadata": {},
   "outputs": [],
   "source": [
    "subject.schema"
   ]
  },
  {
   "attachments": {},
   "cell_type": "markdown",
   "metadata": {},
   "source": [
    "The table classes in the module corresponds to a table in the database."
   ]
  },
  {
   "cell_type": "code",
   "execution_count": null,
   "metadata": {},
   "outputs": [],
   "source": [
    "subject.Subject()"
   ]
  },
  {
   "attachments": {},
   "cell_type": "markdown",
   "metadata": {},
   "source": [
    "We can view the table dependencies and the attributes we need to insert by using the functions `.describe()` and `.heading`.  The `describe()` function displays the table definition with foreign key references and the `heading` function displays the attributes of the table definition.  These are particularly useful functions if you are new to DataJoint Elements and are unsure of the attributes required for each table."
   ]
  },
  {
   "cell_type": "code",
   "execution_count": null,
   "metadata": {},
   "outputs": [],
   "source": [
    "subject.Subject.describe()"
   ]
  },
  {
   "cell_type": "code",
   "execution_count": null,
   "metadata": {},
   "outputs": [],
   "source": [
    "subject.Subject.heading"
   ]
  },
  {
   "attachments": {},
   "cell_type": "markdown",
   "metadata": {},
   "source": [
    "We will insert data into the `subject.Subject` table. "
   ]
  },
  {
   "cell_type": "code",
   "execution_count": null,
   "metadata": {},
   "outputs": [],
   "source": [
    "subject.Subject.insert1(\n",
    "    dict(\n",
    "        subject=\"subject1\",\n",
    "        sex=\"F\",\n",
    "        subject_birth_date=\"2020-01-01\",\n",
    "        subject_description=\"Optogenetic pilot subject\",\n",
    "    )\n",
    ")\n",
    "subject.Subject()"
   ]
  },
  {
   "attachments": {},
   "cell_type": "markdown",
   "metadata": {},
   "source": [
    "Let's continue inserting in the other manual tables.  The `Session` table is next."
   ]
  },
  {
   "cell_type": "code",
   "execution_count": null,
   "metadata": {},
   "outputs": [],
   "source": [
    "session.Session.describe()"
   ]
  },
  {
   "cell_type": "code",
   "execution_count": null,
   "metadata": {},
   "outputs": [],
   "source": [
    "session.Session.heading"
   ]
  },
  {
   "attachments": {},
   "cell_type": "markdown",
   "metadata": {},
   "source": [
    "The cells above show the dependencies and attributes for the `session.Session` table.\n",
    "\n",
    "Notice that `describe` shows the dependencies of the table on upstream tables (i.e. foreign key references). The `Session` table depends on the upstream `Subject` table. \n",
    "\n",
    "Whereas `heading` lists all the attributes of the `Session` table, regardless of\n",
    "whether they are declared in an upstream table."
   ]
  },
  {
   "cell_type": "code",
   "execution_count": null,
   "metadata": {},
   "outputs": [],
   "source": [
    "session.Session.insert1(\n",
    "    dict(\n",
    "        subject=\"subject1\", \n",
    "        session_id=\"1\", \n",
    "        session_datetime=\"2022-04-04 12:22:15.032\"\n",
    "     )\n",
    ")\n",
    "session.Session()"
   ]
  },
  {
   "attachments": {},
   "cell_type": "markdown",
   "metadata": {},
   "source": [
    "The `OptoProtocol` table's attributes include the `Session` and `Device` tables.  Let's insert into the `Device` table."
   ]
  },
  {
   "cell_type": "code",
   "execution_count": null,
   "metadata": {},
   "outputs": [],
   "source": [
    "Device.insert1(\n",
    "    dict(\n",
    "        device=\"OPTG_8\",\n",
    "        modality=\"Optogenetics\",\n",
    "        description=\"8 channel pulse sequence device\",\n",
    "    )\n",
    ")"
   ]
  },
  {
   "attachments": {},
   "cell_type": "markdown",
   "metadata": {},
   "source": [
    "The `surgery.Implantation` table's attribute includes the `User` table.  Let's insert into the `User` table. "
   ]
  },
  {
   "cell_type": "code",
   "execution_count": null,
   "metadata": {},
   "outputs": [],
   "source": [
    "lab.User.insert1(\n",
    "    dict(user=\"User1\")\n",
    ")"
   ]
  },
  {
   "attachments": {},
   "cell_type": "markdown",
   "metadata": {},
   "source": [
    "The `Implantation` table's attributes includes the `CoordinateReference` and `Hemisphere` tables.  Let's view the contents of these lookup tables, which have default contents."
   ]
  },
  {
   "cell_type": "code",
   "execution_count": null,
   "metadata": {},
   "outputs": [],
   "source": [
    "surgery.CoordinateReference()"
   ]
  },
  {
   "cell_type": "code",
   "execution_count": null,
   "metadata": {},
   "outputs": [],
   "source": [
    "surgery.Hemisphere()"
   ]
  },
  {
   "attachments": {},
   "cell_type": "markdown",
   "metadata": {},
   "source": [
    "Insert a new entry for the location of the optogenetics probe."
   ]
  },
  {
   "cell_type": "code",
   "execution_count": null,
   "metadata": {},
   "outputs": [],
   "source": [
    "surgery.BrainRegion.insert1(\n",
    "    dict(\n",
    "        region_acronym=\"dHP\", \n",
    "        region_name=\"Dorsal Hippocampus\")\n",
    ")\n",
    "\n",
    "surgery.Implantation.insert1(\n",
    "    dict(\n",
    "        subject=\"subject1\",\n",
    "        implant_date=\"2022-04-01 12:13:14\",\n",
    "        implant_type=\"optogenetics\",\n",
    "        target_region=\"dHP\",\n",
    "        target_hemisphere=\"left\",\n",
    "        surgeon=\"User1\",\n",
    "    )\n",
    ")\n",
    "\n",
    "surgery.Implantation.Coordinate.insert1(\n",
    "    dict(\n",
    "        subject=\"subject1\",\n",
    "        implant_date=\"2022-04-01 12:13:14\",\n",
    "        implant_type=\"optogenetics\",\n",
    "        target_region=\"dHP\",\n",
    "        target_hemisphere=\"left\",\n",
    "        ap=\"-7.9\",      # [mm] anterior-posterior distance\n",
    "        ap_ref=\"bregma\",\n",
    "        ml=\"-1.8\",      # [mm] medial axis distance\n",
    "        ml_ref=\"bregma\",\n",
    "        dv=\"5\",         # [mm] dorso-ventral axis distance\n",
    "        dv_ref=\"skull_surface\",\n",
    "        theta=\"11.5\",   # [0, 180] degree rotation about ml-axis relative to z\n",
    "        phi=\"0\",        # [0, 360] degree rotation about dv-axis relative to x\n",
    "        beta=None,      # [-180, 180] degree rotation about shank relative to anterior\n",
    "    )\n",
    ")"
   ]
  },
  {
   "attachments": {},
   "cell_type": "markdown",
   "metadata": {},
   "source": [
    "We'll add information to describe the stimulus, including waveform shape and and stimulation parameters."
   ]
  },
  {
   "cell_type": "code",
   "execution_count": null,
   "metadata": {},
   "outputs": [],
   "source": [
    "optogenetics.OptoWaveform.insert1(\n",
    "    dict(\n",
    "        waveform_name=\"square_10\",\n",
    "        waveform_type=\"square\",\n",
    "        waveform_description=\"Square waveform: 10%/90% on/off cycle\",\n",
    "    )\n",
    ")\n",
    "\n",
    "# Square is one part table of OptoWaveform.\n",
    "# For sine and ramp waveforms, see the corresponding tables.\n",
    "optogenetics.OptoWaveform.Square.insert1(\n",
    "    dict(\n",
    "        waveform_name=\"square_10\", \n",
    "        on_proportion=0.10, \n",
    "        off_proportion=0.90)\n",
    ")"
   ]
  },
  {
   "cell_type": "code",
   "execution_count": null,
   "metadata": {},
   "outputs": [],
   "source": [
    "optogenetics.OptoStimParams.insert1(\n",
    "    dict(\n",
    "        opto_params_id=1,\n",
    "        waveform_name=\"square_10\",\n",
    "        wavelength=470,\n",
    "        light_intensity=10.2,\n",
    "        frequency=1,\n",
    "        duration=241,\n",
    "    )\n",
    ")"
   ]
  },
  {
   "attachments": {},
   "cell_type": "markdown",
   "metadata": {},
   "source": [
    "Next, we'll describe the session in which these parameters are used in `OptoProtocol`."
   ]
  },
  {
   "cell_type": "code",
   "execution_count": null,
   "metadata": {},
   "outputs": [],
   "source": [
    "optogenetics.OptoProtocol.insert1(\n",
    "    dict(\n",
    "        subject=\"subject1\",\n",
    "        session_id=\"1\",\n",
    "        protocol_id=\"1\",\n",
    "        opto_params_id=\"1\",\n",
    "        implant_date=\"2022-04-01 12:13:14\",\n",
    "        implant_type=\"optogenetics\",\n",
    "        target_region=\"dHP\",\n",
    "        target_hemisphere=\"left\",\n",
    "        device=\"OPTG_4\",\n",
    "    )\n",
    ")"
   ]
  },
  {
   "attachments": {},
   "cell_type": "markdown",
   "metadata": {},
   "source": [
    "We can describe the timing of these stimulations in `OptoEvent`."
   ]
  },
  {
   "cell_type": "code",
   "execution_count": null,
   "metadata": {},
   "outputs": [],
   "source": [
    "optogenetics.OptoEvent.insert(\n",
    "    dict(\n",
    "        subject=\"subject1\",\n",
    "        session_id=1,\n",
    "        protocol_id=1,\n",
    "        stim_start_time=241,\n",
    "        stim_end_time=482,\n",
    "    )\n",
    ")"
   ]
  },
  {
   "attachments": {},
   "cell_type": "markdown",
   "metadata": {},
   "source": [
    "We can insert a  second set of timing information for the stimulation."
   ]
  },
  {
   "cell_type": "code",
   "execution_count": null,
   "metadata": {},
   "outputs": [],
   "source": [
    "optogenetics.OptoEvent.insert(\n",
    "    dict(\n",
    "        subject=\"subject1\",\n",
    "        session_id=1,\n",
    "        protocol_id=1,\n",
    "        stim_start_time=543,\n",
    "        stim_end_time=797,\n",
    "    )\n",
    ")"
   ]
  },
  {
   "attachments": {},
   "cell_type": "markdown",
   "metadata": {},
   "source": [
    "## Query\n",
    "\n",
    "Queries allow you to view the contents of the database.  The simplest query is the instance of the table class."
   ]
  },
  {
   "cell_type": "code",
   "execution_count": null,
   "metadata": {},
   "outputs": [],
   "source": [
    "optogenetics.OptoEvent()"
   ]
  },
  {
   "attachments": {},
   "cell_type": "markdown",
   "metadata": {},
   "source": [
    "With the `&` operator, we will restrict the contents of the `OptoEvent` table to those entries with a `stim_start_time` of 543."
   ]
  },
  {
   "cell_type": "code",
   "execution_count": null,
   "metadata": {},
   "outputs": [],
   "source": [
    "optogenetics.OptoEvent & \"stim_start_time=543\""
   ]
  },
  {
   "attachments": {},
   "cell_type": "markdown",
   "metadata": {},
   "source": [
    "DataJoint queries can be a highly flexible tool with several [operators](https://datajoint.com/docs/core/concepts/query-lang/operators/).  The next operator we will explore is `join` which combines matching information from tables."
   ]
  },
  {
   "cell_type": "code",
   "execution_count": null,
   "metadata": {},
   "outputs": [],
   "source": [
    "optogenetics.OptoProtocol * optogenetics.OptoStimParams"
   ]
  },
  {
   "attachments": {},
   "cell_type": "markdown",
   "metadata": {},
   "source": [
    "## Fetch\n",
    "\n",
    "The `fetch` and `fetch1` methods download the data from the query object into the workspace.\n",
    "\n",
    "Below we will run `fetch()` without any arguments to return a list of dictionaries containing all attributes of all entries in the table."
   ]
  },
  {
   "cell_type": "code",
   "execution_count": null,
   "metadata": {},
   "outputs": [],
   "source": [
    "optogenetics.OptoEvent.fetch()"
   ]
  },
  {
   "attachments": {},
   "cell_type": "markdown",
   "metadata": {},
   "source": [
    "Next, we will fetch the entry with a `stim_start_time` of 543 with the `fetch1` method, which returns a dictionary containing all attributes of one entry in the table."
   ]
  },
  {
   "cell_type": "code",
   "execution_count": null,
   "metadata": {},
   "outputs": [],
   "source": [
    "(optogenetics.OptoEvent & \"stim_start_time=543\").fetch1()"
   ]
  },
  {
   "attachments": {},
   "cell_type": "markdown",
   "metadata": {},
   "source": [
    "## Next steps\n",
    "\n",
    "Follow the steps below to run this workflow for your experiments:\n",
    "\n",
    "- Create a fork of this repository to your GitHub account.\n",
    "- Clone the repository to your local machine and configure for use with the instructions in the [User Guide](https://datajoint.com/docs/elements/user-guide/).\n",
    "- The DataJoint team offers free [Office Hours](https://datajoint.com/docs/community/support/) to help you setup this workflow.\n",
    "- If you have any questions, please reach out at support@datajoint.com."
   ]
  }
 ],
 "metadata": {
  "jupytext": {
   "encoding": "# -*- coding: utf-8 -*-"
  },
  "kernelspec": {
   "display_name": "Python 3",
   "language": "python",
   "name": "python3"
  },
  "language_info": {
   "codemirror_mode": {
    "name": "ipython",
    "version": 3
   },
   "file_extension": ".py",
   "mimetype": "text/x-python",
   "name": "python",
   "nbconvert_exporter": "python",
   "pygments_lexer": "ipython3",
   "version": "3.9.16"
  },
  "metadata": {
   "interpreter": {
    "hash": "31f2aee4e71d21fbe5cf8b01ff0e069b9275f58929596ceb00d14d90e3e16cd6"
   }
  },
  "vscode": {
   "interpreter": {
    "hash": "949777d72b0d2535278d3dc13498b2535136f6dfe0678499012e853ee9abcab1"
   }
  }
 },
 "nbformat": 4,
 "nbformat_minor": 4
}
