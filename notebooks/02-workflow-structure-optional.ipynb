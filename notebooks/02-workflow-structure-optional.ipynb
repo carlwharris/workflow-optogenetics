{
 "cells": [
  {
   "attachments": {},
   "cell_type": "markdown",
   "metadata": {},
   "source": [
    "# Introduction to the workflow structure\n",
    "\n",
    "This notebook gives a brief overview of the workflow structure and introduces some useful DataJoint tools to facilitate the exploration.\n",
    "\n",
    "- DataJoint needs to be pre-configured before running this notebook, if you haven't set up the configuration, refer to notebook [01-configure](01-configure.ipynb).\n",
    "\n",
    "- If you are familiar with DataJoint and the workflow structure, proceed to the next notebook [03-process](03-process.ipynb) directly to run the workflow.\n",
    "\n",
    "- For a more thorough introduction of DataJoint functionality, please visit our [Elements user guide](https://datajoint.com/docs/elements/user-guide/) and [general documentation](https://datajoint.com/docs/core/concepts/mantra/)\n",
    "\n",
    "To load the local configuration, we will change the directory to the package root.\n"
   ]
  },
  {
   "cell_type": "code",
   "execution_count": 1,
   "metadata": {},
   "outputs": [],
   "source": [
    "import os\n",
    "\n",
    "if os.path.basename(os.getcwd()) == \"notebooks\":\n",
    "    os.chdir(\"..\")"
   ]
  },
  {
   "cell_type": "markdown",
   "metadata": {},
   "source": [
    "## Schemas and tables\n",
    "\n",
    "The current workflow is composed of multiple database schemas, each of them corresponds to a module within `workflow_optogenetics.pipeline`\n"
   ]
  },
  {
   "cell_type": "code",
   "execution_count": 2,
   "metadata": {},
   "outputs": [
    {
     "name": "stderr",
     "output_type": "stream",
     "text": [
      "[2022-12-06 14:56:19,370][INFO]: Connecting cbroz@dss-db.datajoint.io:3306\n",
      "[2022-12-06 14:56:19,698][INFO]: Connected cbroz@dss-db.datajoint.io:3306\n"
     ]
    }
   ],
   "source": [
    "import datajoint as dj\n",
    "from workflow_optogenetics.pipeline import lab, subject, surgery, session, opto, Device"
   ]
  },
  {
   "cell_type": "markdown",
   "metadata": {},
   "source": [
    "Each module contains a schema object that enables interaction with the schema in the database.\n"
   ]
  },
  {
   "cell_type": "code",
   "execution_count": 3,
   "metadata": {},
   "outputs": [
    {
     "data": {
      "text/plain": [
       "Schema `cbroz_wfopto_opto`"
      ]
     },
     "execution_count": 3,
     "metadata": {},
     "output_type": "execute_result"
    }
   ],
   "source": [
    "opto.schema"
   ]
  },
  {
   "cell_type": "markdown",
   "metadata": {},
   "source": [
    "The table classes in the module corresponds to a table in the schema in the database.\n"
   ]
  },
  {
   "cell_type": "code",
   "execution_count": 4,
   "metadata": {},
   "outputs": [
    {
     "data": {
      "text/html": [
       "\n",
       "    \n",
       "    <style type=\"text/css\">\n",
       "        .Relation{\n",
       "            border-collapse:collapse;\n",
       "        }\n",
       "        .Relation th{\n",
       "            background: #A0A0A0; color: #ffffff; padding:4px; border:#f0e0e0 1px solid;\n",
       "            font-weight: normal; font-family: monospace; font-size: 100%;\n",
       "        }\n",
       "        .Relation td{\n",
       "            padding:4px; border:#f0e0e0 1px solid; font-size:100%;\n",
       "        }\n",
       "        .Relation tr:nth-child(odd){\n",
       "            background: #ffffff;\n",
       "        }\n",
       "        .Relation tr:nth-child(even){\n",
       "            background: #f3f1ff;\n",
       "        }\n",
       "        /* Tooltip container */\n",
       "        .djtooltip {\n",
       "        }\n",
       "        /* Tooltip text */\n",
       "        .djtooltip .djtooltiptext {\n",
       "            visibility: hidden;\n",
       "            width: 120px;\n",
       "            background-color: black;\n",
       "            color: #fff;\n",
       "            text-align: center;\n",
       "            padding: 5px 0;\n",
       "            border-radius: 6px;\n",
       "            /* Position the tooltip text - see examples below! */\n",
       "            position: absolute;\n",
       "            z-index: 1;\n",
       "        }\n",
       "        #primary {\n",
       "            font-weight: bold;\n",
       "            color: black;\n",
       "        }\n",
       "        #nonprimary {\n",
       "            font-weight: normal;\n",
       "            color: white;\n",
       "        }\n",
       "\n",
       "        /* Show the tooltip text when you mouse over the tooltip container */\n",
       "        .djtooltip:hover .djtooltiptext {\n",
       "            visibility: visible;\n",
       "        }\n",
       "    </style>\n",
       "    \n",
       "    <b>OptoWaveform defines the shape of one cycle of the optogenetic stimulus</b>\n",
       "        <div style=\"max-height:1000px;max-width:1500px;overflow:auto;\">\n",
       "        <table border=\"1\" class=\"Relation\">\n",
       "            <thead> <tr style=\"text-align: right;\"> <th> <div class=\"djtooltip\">\n",
       "                            <p id=\"primary\">waveform_name</p>\n",
       "                            <span class=\"djtooltiptext\"></span>\n",
       "                        </div></th><th><div class=\"djtooltip\">\n",
       "                            <p id=\"nonprimary\">waveform_type</p>\n",
       "                            <span class=\"djtooltiptext\"></span>\n",
       "                        </div></th><th><div class=\"djtooltip\">\n",
       "                            <p id=\"nonprimary\">normalized_waveform</p>\n",
       "                            <span class=\"djtooltiptext\">For one cycle, normalized to peak</span>\n",
       "                        </div></th><th><div class=\"djtooltip\">\n",
       "                            <p id=\"nonprimary\">waveform_description</p>\n",
       "                            <span class=\"djtooltiptext\">description of the waveform</span>\n",
       "                        </div> </th> </tr> </thead>\n",
       "            <tbody> <tr> <td>square_10</td>\n",
       "<td>square</td>\n",
       "<td>=BLOB=</td>\n",
       "<td>Square waveform: 10%/90% on/off cycle</td> </tr> </tbody>\n",
       "        </table>\n",
       "        \n",
       "        <p>Total: 1</p></div>\n",
       "        "
      ],
      "text/plain": [
       "*waveform_name waveform_type  normalized waveform_descr\n",
       "+------------+ +------------+ +--------+ +------------+\n",
       "square_10      square         =BLOB=     Square wavefor\n",
       " (Total: 1)"
      ]
     },
     "execution_count": 4,
     "metadata": {},
     "output_type": "execute_result"
    }
   ],
   "source": [
    "# preview columns and contents in a table\n",
    "opto.OptoWaveform()"
   ]
  },
  {
   "cell_type": "markdown",
   "metadata": {
    "lines_to_next_cell": 0,
    "title": "The first time importing the modules, empty schemas and tables will be created in the database."
   },
   "source": [
    "By importing the modules for the first time, the schemas and tables will be created inside the database.\n",
    "\n",
    "Once created, importing modules will not create schemas and tables again, but the existing schemas/tables can be accessed and manipulated by the modules.\n"
   ]
  },
  {
   "cell_type": "markdown",
   "metadata": {
    "lines_to_next_cell": 0,
    "title": "The schemas and tables will not be re-created when importing modules if they have existed."
   },
   "source": [
    "## DataJoint tools to explore schemas and tables\n",
    "\n",
    "`dj.list_schemas()`: list all schemas a user has access to in the current database\n"
   ]
  },
  {
   "cell_type": "code",
   "execution_count": null,
   "metadata": {},
   "outputs": [],
   "source": [
    "dj.list_schemas()"
   ]
  },
  {
   "cell_type": "markdown",
   "metadata": {},
   "source": [
    "`dj.Diagram()`: plot tables and dependencies in a schema. See also [diagram notation docs](https://datajoint.com/docs/core/concepts/getting-started/diagrams/).\n"
   ]
  },
  {
   "cell_type": "code",
   "execution_count": 5,
   "metadata": {},
   "outputs": [
    {
     "data": {
      "image/svg+xml": "<svg xmlns=\"http://www.w3.org/2000/svg\" xmlns:xlink=\"http://www.w3.org/1999/xlink\" width=\"594pt\" height=\"327pt\" viewBox=\"0.00 0.00 593.50 327.00\">\n<g id=\"graph0\" class=\"graph\" transform=\"scale(1 1) rotate(0) translate(4 323)\">\n<polygon fill=\"white\" stroke=\"none\" points=\"-4,4 -4,-323 589.5,-323 589.5,4 -4,4\"/>\n<!-- opto.OptoProtocol -->\n<g id=\"node1\" class=\"node\">\n<title>opto.OptoProtocol</title>\n<g id=\"a_node1\"><a xlink:title=\"→ session.Session\rprotocol_id          \r------------------------------\r→ opto.OptoStimParams\r→ surgery.Implantation\r→ [nullable] Device\r\">\n<polygon fill=\"#00ff00\" fill-opacity=\"0.188235\" stroke=\"#00ff00\" stroke-opacity=\"0.188235\" points=\"123.5,-106 10.5,-106 10.5,-71 123.5,-71 123.5,-106\"/>\n<text text-anchor=\"start\" x=\"18.5\" y=\"-86.4\" font-family=\"arial\" text-decoration=\"underline\" font-size=\"12.00\" fill=\"darkgreen\">opto.OptoProtocol</text>\n</a>\n</g>\n</g>\n<!-- opto.OptoEvent -->\n<g id=\"node5\" class=\"node\">\n<title>opto.OptoEvent</title>\n<g id=\"a_node5\"><a xlink:title=\"→ opto.OptoProtocol\rstim_start_time      \r------------------------------\rstim_end_time        \r\">\n<polygon fill=\"#00ff00\" fill-opacity=\"0.188235\" stroke=\"#00ff00\" stroke-opacity=\"0.188235\" points=\"116.5,-35 17.5,-35 17.5,0 116.5,0 116.5,-35\"/>\n<text text-anchor=\"start\" x=\"25.5\" y=\"-15.4\" font-family=\"arial\" text-decoration=\"underline\" font-size=\"12.00\" fill=\"darkgreen\">opto.OptoEvent</text>\n</a>\n</g>\n</g>\n<!-- opto.OptoProtocol&#45;&gt;opto.OptoEvent -->\n<g id=\"edge1\" class=\"edge\">\n<title>opto.OptoProtocol-&gt;opto.OptoEvent</title>\n<path fill=\"none\" stroke=\"#000000\" stroke-width=\"0.75\" stroke-opacity=\"0.250980\" d=\"M67,-70.8C67,-59.95 67,-45.87 67,-35.05\"/>\n</g>\n<!-- opto.OptoWaveform -->\n<g id=\"node2\" class=\"node\">\n<title>opto.OptoWaveform</title>\n<g id=\"a_node2\"><a xlink:title=\"waveform_name        \r------------------------------\r→ opto.OptoWaveformType\rnormalized_waveform=null \rwaveform_description=&quot;&quot; \r\">\n<polygon fill=\"#000000\" fill-opacity=\"0.125490\" stroke=\"none\" points=\"419,-248 315,-248 315,-213 419,-213 419,-248\"/>\n<text text-anchor=\"start\" x=\"323\" y=\"-229\" font-family=\"arial\" text-decoration=\"underline\" font-size=\"10.00\">opto.OptoWaveform</text>\n</a>\n</g>\n</g>\n<!-- opto.OptoStimParams -->\n<g id=\"node3\" class=\"node\">\n<title>opto.OptoStimParams</title>\n<g id=\"a_node3\"><a xlink:title=\"opto_params_id       \r------------------------------\r→ opto.OptoWaveform\rwavelength           \rpower=null           \rlight_intensity=null \rfrequency            \rduration             \rprotocol_description=&quot;&quot; \r\">\n<polygon fill=\"#00ff00\" fill-opacity=\"0.188235\" stroke=\"#00ff00\" stroke-opacity=\"0.188235\" points=\"134,-177 0,-177 0,-142 134,-142 134,-177\"/>\n<text text-anchor=\"start\" x=\"8\" y=\"-157.4\" font-family=\"arial\" text-decoration=\"underline\" font-size=\"12.00\" fill=\"darkgreen\">opto.OptoStimParams</text>\n</a>\n</g>\n</g>\n<!-- opto.OptoWaveform&#45;&gt;opto.OptoStimParams -->\n<g id=\"edge2\" class=\"edge\">\n<title>opto.OptoWaveform-&gt;opto.OptoStimParams</title>\n<path fill=\"none\" stroke=\"#000000\" stroke-width=\"0.75\" stroke-dasharray=\"5,2\" stroke-opacity=\"0.250980\" d=\"M315.09,-217.56C265.03,-206.05 189.01,-188.56 134.32,-175.98\"/>\n</g>\n<!-- opto.OptoWaveform.Ramp -->\n<g id=\"node4\" class=\"node\">\n<title>opto.OptoWaveform.Ramp</title>\n<g id=\"a_node4\"><a xlink:title=\"→ opto.OptoWaveform\r------------------------------\rramp_up_proportion   \rramp_down_proportion \r\">\n<polygon fill=\"none\" stroke=\"none\" points=\"285.5,-169 152.5,-169 152.5,-150 285.5,-150 285.5,-169\"/>\n<text text-anchor=\"middle\" x=\"219\" y=\"-157\" font-family=\"arial\" font-size=\"10.00\">opto.OptoWaveform.Ramp</text>\n</a>\n</g>\n</g>\n<!-- opto.OptoWaveform&#45;&gt;opto.OptoWaveform.Ramp -->\n<g id=\"edge3\" class=\"edge\">\n<title>opto.OptoWaveform-&gt;opto.OptoWaveform.Ramp</title>\n<path fill=\"none\" stroke=\"#000000\" stroke-width=\"2\" stroke-opacity=\"0.250980\" d=\"M331.93,-213.15C302.18,-199.28 260.7,-179.94 237.18,-168.98\"/>\n</g>\n<!-- opto.OptoWaveform.Sine -->\n<g id=\"node7\" class=\"node\">\n<title>opto.OptoWaveform.Sine</title>\n<g id=\"a_node7\"><a xlink:title=\"→ opto.OptoWaveform\r------------------------------\rnumber_of_cycles     \rstarting_phase=0.00  \r\">\n<polygon fill=\"none\" stroke=\"none\" points=\"430,-169 304,-169 304,-150 430,-150 430,-169\"/>\n<text text-anchor=\"middle\" x=\"367\" y=\"-157\" font-family=\"arial\" font-size=\"10.00\">opto.OptoWaveform.Sine</text>\n</a>\n</g>\n</g>\n<!-- opto.OptoWaveform&#45;&gt;opto.OptoWaveform.Sine -->\n<g id=\"edge4\" class=\"edge\">\n<title>opto.OptoWaveform-&gt;opto.OptoWaveform.Sine</title>\n<path fill=\"none\" stroke=\"#000000\" stroke-width=\"2\" stroke-opacity=\"0.250980\" d=\"M367,-213.15C367,-199.28 367,-179.94 367,-168.98\"/>\n</g>\n<!-- opto.OptoWaveform.Square -->\n<g id=\"node8\" class=\"node\">\n<title>opto.OptoWaveform.Square</title>\n<g id=\"a_node8\"><a xlink:title=\"→ opto.OptoWaveform\r------------------------------\ron_proportion        \roff_proportion       \r\">\n<polygon fill=\"none\" stroke=\"none\" points=\"585.5,-169 448.5,-169 448.5,-150 585.5,-150 585.5,-169\"/>\n<text text-anchor=\"middle\" x=\"517\" y=\"-157\" font-family=\"arial\" font-size=\"10.00\">opto.OptoWaveform.Square</text>\n</a>\n</g>\n</g>\n<!-- opto.OptoWaveform&#45;&gt;opto.OptoWaveform.Square -->\n<g id=\"edge5\" class=\"edge\">\n<title>opto.OptoWaveform-&gt;opto.OptoWaveform.Square</title>\n<path fill=\"none\" stroke=\"#000000\" stroke-width=\"2\" stroke-opacity=\"0.250980\" d=\"M402.55,-213.15C432.7,-199.28 474.74,-179.94 498.57,-168.98\"/>\n</g>\n<!-- opto.OptoStimParams&#45;&gt;opto.OptoProtocol -->\n<g id=\"edge6\" class=\"edge\">\n<title>opto.OptoStimParams-&gt;opto.OptoProtocol</title>\n<path fill=\"none\" stroke=\"#000000\" stroke-width=\"0.75\" stroke-dasharray=\"5,2\" stroke-opacity=\"0.250980\" d=\"M67,-141.8C67,-130.95 67,-116.87 67,-106.05\"/>\n</g>\n<!-- opto.OptoWaveformType -->\n<g id=\"node6\" class=\"node\">\n<title>opto.OptoWaveformType</title>\n<g id=\"a_node6\"><a xlink:title=\"waveform_type        \r\">\n<polygon fill=\"#000000\" fill-opacity=\"0.125490\" stroke=\"none\" points=\"429.5,-319 304.5,-319 304.5,-284 429.5,-284 429.5,-319\"/>\n<text text-anchor=\"start\" x=\"312.5\" y=\"-300\" font-family=\"arial\" text-decoration=\"underline\" font-size=\"10.00\">opto.OptoWaveformType</text>\n</a>\n</g>\n</g>\n<!-- opto.OptoWaveformType&#45;&gt;opto.OptoWaveform -->\n<g id=\"edge7\" class=\"edge\">\n<title>opto.OptoWaveformType-&gt;opto.OptoWaveform</title>\n<path fill=\"none\" stroke=\"#000000\" stroke-width=\"0.75\" stroke-dasharray=\"5,2\" stroke-opacity=\"0.250980\" d=\"M367,-284.15C367,-273.15 367,-258.71 367,-247.73\"/>\n</g>\n</g>\n</svg>",
      "text/plain": [
       "<datajoint.diagram.Diagram at 0x1271be700>"
      ]
     },
     "execution_count": 5,
     "metadata": {},
     "output_type": "execute_result"
    }
   ],
   "source": [
    "# Plot diagram for all tables in a schema\n",
    "dj.Diagram(opto)"
   ]
  },
  {
   "cell_type": "code",
   "execution_count": 6,
   "metadata": {},
   "outputs": [
    {
     "data": {
      "image/svg+xml": "<svg xmlns=\"http://www.w3.org/2000/svg\" xmlns:xlink=\"http://www.w3.org/1999/xlink\" width=\"1339pt\" height=\"327pt\" viewBox=\"0.00 0.00 1339.00 327.00\">\n<g id=\"graph0\" class=\"graph\" transform=\"scale(1 1) rotate(0) translate(4 323)\">\n<polygon fill=\"white\" stroke=\"none\" points=\"-4,4 -4,-323 1335,-323 1335,4 -4,4\"/>\n<!-- 7 -->\n<g id=\"node1\" class=\"node\">\n<title>7</title>\n<ellipse fill=\"#ff8800\" fill-opacity=\"0.501961\" stroke=\"#ff8800\" stroke-opacity=\"0.501961\" cx=\"1304.5\" cy=\"-230.5\" rx=\"2\" ry=\"2\"/>\n<text text-anchor=\"middle\" x=\"1304.5\" y=\"-230.2\" font-family=\"arial\" font-size=\"1.00\" fill=\"#ff8800\" fill-opacity=\"0.501961\">7</text>\n</g>\n<!-- surgery.Implantation -->\n<g id=\"node16\" class=\"node\">\n<title>surgery.Implantation</title>\n<g id=\"a_node16\"><a xlink:title=\"→ subject.Subject\rimplant_date         \r→ surgery.ImplantationType\r→ surgery.BrainRegion\r→ surgery.Hemisphere\r------------------------------\r→ lab.User.proj(surgeon=&quot;user&quot;)\rap                   \r→ surgery.CoordinateReference.proj(ap_ref=&quot;reference&quot;)\rml                   \r→ surgery.CoordinateReference.proj(ml_ref=&quot;reference&quot;)\rdv                   \r→ surgery.CoordinateReference.proj(dv_ref=&quot;reference&quot;)\rtheta=null           \rphi=null             \rbeta=null            \r\">\n<polygon fill=\"#00ff00\" fill-opacity=\"0.188235\" stroke=\"#00ff00\" stroke-opacity=\"0.188235\" points=\"921.5,-177 797.5,-177 797.5,-142 921.5,-142 921.5,-177\"/>\n<text text-anchor=\"start\" x=\"805.5\" y=\"-157.4\" font-family=\"arial\" text-decoration=\"underline\" font-size=\"12.00\" fill=\"darkgreen\">surgery.Implantation</text>\n</a>\n</g>\n</g>\n<!-- 7&#45;&gt;surgery.Implantation -->\n<g id=\"edge1\" class=\"edge\">\n<title>7-&gt;surgery.Implantation</title>\n<path fill=\"none\" stroke=\"#000000\" stroke-width=\"0.75\" stroke-dasharray=\"5,2\" stroke-opacity=\"0.250980\" d=\"M1303.93,-228.7C1301.91,-225.95 1294.82,-216.84 1286.5,-213 1223,-183.71 1023.94,-169.18 921.61,-163.49\"/>\n</g>\n<!-- 10 -->\n<g id=\"node2\" class=\"node\">\n<title>10</title>\n<ellipse fill=\"#ff8800\" fill-opacity=\"0.501961\" stroke=\"#ff8800\" stroke-opacity=\"0.501961\" cx=\"788.5\" cy=\"-230.5\" rx=\"2\" ry=\"2\"/>\n<text text-anchor=\"middle\" x=\"788.5\" y=\"-230.2\" font-family=\"arial\" font-size=\"1.00\" fill=\"#ff8800\" fill-opacity=\"0.501961\">10</text>\n</g>\n<!-- 10&#45;&gt;surgery.Implantation -->\n<g id=\"edge2\" class=\"edge\">\n<title>10-&gt;surgery.Implantation</title>\n<path fill=\"none\" stroke=\"#000000\" stroke-width=\"0.75\" stroke-dasharray=\"5,2\" stroke-opacity=\"0.250980\" d=\"M789.3,-228.73C794.42,-223.75 823.05,-195.92 842.13,-177.38\"/>\n</g>\n<!-- 8 -->\n<g id=\"node3\" class=\"node\">\n<title>8</title>\n<ellipse fill=\"#ff8800\" fill-opacity=\"0.501961\" stroke=\"#ff8800\" stroke-opacity=\"0.501961\" cx=\"824.5\" cy=\"-230.5\" rx=\"2\" ry=\"2\"/>\n<text text-anchor=\"middle\" x=\"824.5\" y=\"-230.2\" font-family=\"arial\" font-size=\"1.00\" fill=\"#ff8800\" fill-opacity=\"0.501961\">8</text>\n</g>\n<!-- 8&#45;&gt;surgery.Implantation -->\n<g id=\"edge3\" class=\"edge\">\n<title>8-&gt;surgery.Implantation</title>\n<path fill=\"none\" stroke=\"#000000\" stroke-width=\"0.75\" stroke-dasharray=\"5,2\" stroke-opacity=\"0.250980\" d=\"M824.89,-228.73C827.42,-223.75 841.53,-195.92 850.94,-177.38\"/>\n</g>\n<!-- 9 -->\n<g id=\"node4\" class=\"node\">\n<title>9</title>\n<ellipse fill=\"#ff8800\" fill-opacity=\"0.501961\" stroke=\"#ff8800\" stroke-opacity=\"0.501961\" cx=\"859.5\" cy=\"-230.5\" rx=\"2\" ry=\"2\"/>\n<text text-anchor=\"middle\" x=\"859.5\" y=\"-230.2\" font-family=\"arial\" font-size=\"1.00\" fill=\"#ff8800\" fill-opacity=\"0.501961\">9</text>\n</g>\n<!-- 9&#45;&gt;surgery.Implantation -->\n<g id=\"edge4\" class=\"edge\">\n<title>9-&gt;surgery.Implantation</title>\n<path fill=\"none\" stroke=\"#000000\" stroke-width=\"0.75\" stroke-dasharray=\"5,2\" stroke-opacity=\"0.250980\" d=\"M859.5,-228.52C859.5,-223.05 859.5,-195.77 859.5,-177.46\"/>\n</g>\n<!-- subject.Subject -->\n<g id=\"node5\" class=\"node\">\n<title>subject.Subject</title>\n<g id=\"a_node5\"><a xlink:title=\"subject              \r------------------------------\rsubject_nickname=&quot;&quot;  \rsex                  \rsubject_birth_date   \rsubject_description=&quot;&quot; \r\">\n<polygon fill=\"#00ff00\" fill-opacity=\"0.188235\" stroke=\"#00ff00\" stroke-opacity=\"0.188235\" points=\"761.5,-248 663.5,-248 663.5,-213 761.5,-213 761.5,-248\"/>\n<text text-anchor=\"start\" x=\"671.5\" y=\"-228.4\" font-family=\"arial\" text-decoration=\"underline\" font-size=\"12.00\" fill=\"darkgreen\">subject.Subject</text>\n</a>\n</g>\n</g>\n<!-- session.Session -->\n<g id=\"node13\" class=\"node\">\n<title>session.Session</title>\n<g id=\"a_node13\"><a xlink:title=\"→ subject.Subject\rsession_id           \r------------------------------\rsession_datetime     \r\">\n<polygon fill=\"#00ff00\" fill-opacity=\"0.188235\" stroke=\"#00ff00\" stroke-opacity=\"0.188235\" points=\"772.5,-177 668.5,-177 668.5,-142 772.5,-142 772.5,-177\"/>\n<text text-anchor=\"start\" x=\"676.5\" y=\"-157.4\" font-family=\"arial\" text-decoration=\"underline\" font-size=\"12.00\" fill=\"darkgreen\">session.Session</text>\n</a>\n</g>\n</g>\n<!-- subject.Subject&#45;&gt;session.Session -->\n<g id=\"edge5\" class=\"edge\">\n<title>subject.Subject-&gt;session.Session</title>\n<path fill=\"none\" stroke=\"#000000\" stroke-width=\"0.75\" stroke-opacity=\"0.250980\" d=\"M714.44,-212.8C715.69,-201.95 717.33,-187.87 718.58,-177.05\"/>\n</g>\n<!-- subject.Subject&#45;&gt;surgery.Implantation -->\n<g id=\"edge6\" class=\"edge\">\n<title>subject.Subject-&gt;surgery.Implantation</title>\n<path fill=\"none\" stroke=\"#000000\" stroke-width=\"0.75\" stroke-opacity=\"0.250980\" d=\"M748.46,-212.62C771.24,-201.93 800.6,-188.15 823.4,-177.44\"/>\n</g>\n<!-- surgery.Hemisphere -->\n<g id=\"node6\" class=\"node\">\n<title>surgery.Hemisphere</title>\n<g id=\"a_node6\"><a xlink:title=\"hemisphere           \r\">\n<polygon fill=\"#000000\" fill-opacity=\"0.125490\" stroke=\"none\" points=\"990.5,-248 886.5,-248 886.5,-213 990.5,-213 990.5,-248\"/>\n<text text-anchor=\"start\" x=\"894.5\" y=\"-229\" font-family=\"arial\" text-decoration=\"underline\" font-size=\"10.00\">surgery.Hemisphere</text>\n</a>\n</g>\n</g>\n<!-- surgery.Hemisphere&#45;&gt;surgery.Implantation -->\n<g id=\"edge7\" class=\"edge\">\n<title>surgery.Hemisphere-&gt;surgery.Implantation</title>\n<path fill=\"none\" stroke=\"#000000\" stroke-width=\"0.75\" stroke-opacity=\"0.250980\" d=\"M919.78,-213.15C907.46,-202.39 891.37,-188.34 878.91,-177.46\"/>\n</g>\n<!-- opto.OptoWaveform.Sine -->\n<g id=\"node7\" class=\"node\">\n<title>opto.OptoWaveform.Sine</title>\n<g id=\"a_node7\"><a xlink:title=\"→ opto.OptoWaveform\r------------------------------\rnumber_of_cycles     \rstarting_phase=0.00  \r\">\n<polygon fill=\"none\" stroke=\"none\" points=\"191.5,-169 65.5,-169 65.5,-150 191.5,-150 191.5,-169\"/>\n<text text-anchor=\"middle\" x=\"128.5\" y=\"-157\" font-family=\"arial\" font-size=\"10.00\">opto.OptoWaveform.Sine</text>\n</a>\n</g>\n</g>\n<!-- Device -->\n<g id=\"node8\" class=\"node\">\n<title>Device</title>\n<g id=\"a_node8\"><a xlink:title=\"device               \r------------------------------\rmodality             \rdescription=null     \r\">\n<polygon fill=\"#000000\" fill-opacity=\"0.125490\" stroke=\"none\" points=\"47,-177 0,-177 0,-142 47,-142 47,-177\"/>\n<text text-anchor=\"start\" x=\"8\" y=\"-158\" font-family=\"arial\" text-decoration=\"underline\" font-size=\"10.00\">Device</text>\n</a>\n</g>\n</g>\n<!-- opto.OptoProtocol -->\n<g id=\"node10\" class=\"node\">\n<title>opto.OptoProtocol</title>\n<g id=\"a_node10\"><a xlink:title=\"→ session.Session\rprotocol_id          \r------------------------------\r→ opto.OptoStimParams\r→ surgery.Implantation\r→ [nullable] Device\r\">\n<polygon fill=\"#00ff00\" fill-opacity=\"0.188235\" stroke=\"#00ff00\" stroke-opacity=\"0.188235\" points=\"555,-106 442,-106 442,-71 555,-71 555,-106\"/>\n<text text-anchor=\"start\" x=\"450\" y=\"-86.4\" font-family=\"arial\" text-decoration=\"underline\" font-size=\"12.00\" fill=\"darkgreen\">opto.OptoProtocol</text>\n</a>\n</g>\n</g>\n<!-- Device&#45;&gt;opto.OptoProtocol -->\n<g id=\"edge8\" class=\"edge\">\n<title>Device-&gt;opto.OptoProtocol</title>\n<path fill=\"none\" stroke=\"#000000\" stroke-width=\"0.75\" stroke-dasharray=\"5,2\" stroke-opacity=\"0.250980\" d=\"M46.89,-145.59C50.05,-144.2 53.31,-142.96 56.5,-142 190.68,-101.82 356.42,-92.22 441.77,-90.04\"/>\n</g>\n<!-- opto.OptoStimParams -->\n<g id=\"node9\" class=\"node\">\n<title>opto.OptoStimParams</title>\n<g id=\"a_node9\"><a xlink:title=\"opto_params_id       \r------------------------------\r→ opto.OptoWaveform\rwavelength           \rpower=null           \rlight_intensity=null \rfrequency            \rduration             \rprotocol_description=&quot;&quot; \r\">\n<polygon fill=\"#00ff00\" fill-opacity=\"0.188235\" stroke=\"#00ff00\" stroke-opacity=\"0.188235\" points=\"343.5,-177 209.5,-177 209.5,-142 343.5,-142 343.5,-177\"/>\n<text text-anchor=\"start\" x=\"217.5\" y=\"-157.4\" font-family=\"arial\" text-decoration=\"underline\" font-size=\"12.00\" fill=\"darkgreen\">opto.OptoStimParams</text>\n</a>\n</g>\n</g>\n<!-- opto.OptoStimParams&#45;&gt;opto.OptoProtocol -->\n<g id=\"edge9\" class=\"edge\">\n<title>opto.OptoStimParams-&gt;opto.OptoProtocol</title>\n<path fill=\"none\" stroke=\"#000000\" stroke-width=\"0.75\" stroke-dasharray=\"5,2\" stroke-opacity=\"0.250980\" d=\"M331.09,-141.53C365.5,-130.84 409.75,-117.08 444.12,-106.4\"/>\n</g>\n<!-- opto.OptoEvent -->\n<g id=\"node15\" class=\"node\">\n<title>opto.OptoEvent</title>\n<g id=\"a_node15\"><a xlink:title=\"→ opto.OptoProtocol\rstim_start_time      \r------------------------------\rstim_end_time        \r\">\n<polygon fill=\"#00ff00\" fill-opacity=\"0.188235\" stroke=\"#00ff00\" stroke-opacity=\"0.188235\" points=\"548,-35 449,-35 449,0 548,0 548,-35\"/>\n<text text-anchor=\"start\" x=\"457\" y=\"-15.4\" font-family=\"arial\" text-decoration=\"underline\" font-size=\"12.00\" fill=\"darkgreen\">opto.OptoEvent</text>\n</a>\n</g>\n</g>\n<!-- opto.OptoProtocol&#45;&gt;opto.OptoEvent -->\n<g id=\"edge10\" class=\"edge\">\n<title>opto.OptoProtocol-&gt;opto.OptoEvent</title>\n<path fill=\"none\" stroke=\"#000000\" stroke-width=\"0.75\" stroke-opacity=\"0.250980\" d=\"M498.5,-70.8C498.5,-59.95 498.5,-45.87 498.5,-35.05\"/>\n</g>\n<!-- opto.OptoWaveformType -->\n<g id=\"node11\" class=\"node\">\n<title>opto.OptoWaveformType</title>\n<g id=\"a_node11\"><a xlink:title=\"waveform_type        \r\">\n<polygon fill=\"#000000\" fill-opacity=\"0.125490\" stroke=\"none\" points=\"493,-319 368,-319 368,-284 493,-284 493,-319\"/>\n<text text-anchor=\"start\" x=\"376\" y=\"-300\" font-family=\"arial\" text-decoration=\"underline\" font-size=\"10.00\">opto.OptoWaveformType</text>\n</a>\n</g>\n</g>\n<!-- opto.OptoWaveform -->\n<g id=\"node20\" class=\"node\">\n<title>opto.OptoWaveform</title>\n<g id=\"a_node20\"><a xlink:title=\"waveform_name        \r------------------------------\r→ opto.OptoWaveformType\rnormalized_waveform=null \rwaveform_description=&quot;&quot; \r\">\n<polygon fill=\"#000000\" fill-opacity=\"0.125490\" stroke=\"none\" points=\"482.5,-248 378.5,-248 378.5,-213 482.5,-213 482.5,-248\"/>\n<text text-anchor=\"start\" x=\"386.5\" y=\"-229\" font-family=\"arial\" text-decoration=\"underline\" font-size=\"10.00\">opto.OptoWaveform</text>\n</a>\n</g>\n</g>\n<!-- opto.OptoWaveformType&#45;&gt;opto.OptoWaveform -->\n<g id=\"edge11\" class=\"edge\">\n<title>opto.OptoWaveformType-&gt;opto.OptoWaveform</title>\n<path fill=\"none\" stroke=\"#000000\" stroke-width=\"0.75\" stroke-dasharray=\"5,2\" stroke-opacity=\"0.250980\" d=\"M430.5,-284.15C430.5,-273.15 430.5,-258.71 430.5,-247.73\"/>\n</g>\n<!-- surgery.CoordinateReference -->\n<g id=\"node12\" class=\"node\">\n<title>surgery.CoordinateReference</title>\n<g id=\"a_node12\"><a xlink:title=\"reference            \r\">\n<polygon fill=\"#000000\" fill-opacity=\"0.125490\" stroke=\"none\" points=\"896,-319 753,-319 753,-284 896,-284 896,-319\"/>\n<text text-anchor=\"start\" x=\"761\" y=\"-300\" font-family=\"arial\" text-decoration=\"underline\" font-size=\"10.00\">surgery.CoordinateReference</text>\n</a>\n</g>\n</g>\n<!-- surgery.CoordinateReference&#45;&gt;10 -->\n<g id=\"edge14\" class=\"edge\">\n<title>surgery.CoordinateReference-&gt;10</title>\n<path fill=\"none\" stroke=\"#000000\" stroke-width=\"0.75\" stroke-dasharray=\"5,2\" stroke-opacity=\"0.250980\" d=\"M815.97,-284.15C806.32,-265.66 791.6,-237.44 788.92,-232.31\"/>\n</g>\n<!-- surgery.CoordinateReference&#45;&gt;8 -->\n<g id=\"edge12\" class=\"edge\">\n<title>surgery.CoordinateReference-&gt;8</title>\n<path fill=\"none\" stroke=\"#000000\" stroke-width=\"0.75\" stroke-dasharray=\"5,2\" stroke-opacity=\"0.250980\" d=\"M824.5,-284.15C824.5,-265.66 824.5,-237.44 824.5,-232.31\"/>\n</g>\n<!-- surgery.CoordinateReference&#45;&gt;9 -->\n<g id=\"edge13\" class=\"edge\">\n<title>surgery.CoordinateReference-&gt;9</title>\n<path fill=\"none\" stroke=\"#000000\" stroke-width=\"0.75\" stroke-dasharray=\"5,2\" stroke-opacity=\"0.250980\" d=\"M832.79,-284.15C842.17,-265.66 856.49,-237.44 859.09,-232.31\"/>\n</g>\n<!-- session.Session&#45;&gt;opto.OptoProtocol -->\n<g id=\"edge15\" class=\"edge\">\n<title>session.Session-&gt;opto.OptoProtocol</title>\n<path fill=\"none\" stroke=\"#000000\" stroke-width=\"0.75\" stroke-opacity=\"0.250980\" d=\"M668.17,-142.24C633.56,-131.48 588.27,-117.4 553.19,-106.5\"/>\n</g>\n<!-- opto.OptoWaveform.Square -->\n<g id=\"node14\" class=\"node\">\n<title>opto.OptoWaveform.Square</title>\n<g id=\"a_node14\"><a xlink:title=\"→ opto.OptoWaveform\r------------------------------\ron_proportion        \roff_proportion       \r\">\n<polygon fill=\"none\" stroke=\"none\" points=\"499,-169 362,-169 362,-150 499,-150 499,-169\"/>\n<text text-anchor=\"middle\" x=\"430.5\" y=\"-157\" font-family=\"arial\" font-size=\"10.00\">opto.OptoWaveform.Square</text>\n</a>\n</g>\n</g>\n<!-- surgery.Implantation&#45;&gt;opto.OptoProtocol -->\n<g id=\"edge16\" class=\"edge\">\n<title>surgery.Implantation-&gt;opto.OptoProtocol</title>\n<path fill=\"none\" stroke=\"#000000\" stroke-width=\"0.75\" stroke-dasharray=\"5,2\" stroke-opacity=\"0.250980\" d=\"M797.37,-145.21C792.01,-144.11 786.66,-143.02 781.5,-142 703.32,-126.48 612.7,-109.92 555.5,-99.64\"/>\n</g>\n<!-- opto.OptoWaveform.Ramp -->\n<g id=\"node17\" class=\"node\">\n<title>opto.OptoWaveform.Ramp</title>\n<g id=\"a_node17\"><a xlink:title=\"→ opto.OptoWaveform\r------------------------------\rramp_up_proportion   \rramp_down_proportion \r\">\n<polygon fill=\"none\" stroke=\"none\" points=\"650,-169 517,-169 517,-150 650,-150 650,-169\"/>\n<text text-anchor=\"middle\" x=\"583.5\" y=\"-157\" font-family=\"arial\" font-size=\"10.00\">opto.OptoWaveform.Ramp</text>\n</a>\n</g>\n</g>\n<!-- lab.User -->\n<g id=\"node18\" class=\"node\">\n<title>lab.User</title>\n<g id=\"a_node18\"><a xlink:title=\"user                 \r------------------------------\ruser_email=&quot;&quot;        \ruser_cellphone=&quot;&quot;    \ruser_fullname=&quot;&quot;     \r\">\n<polygon fill=\"#000000\" fill-opacity=\"0.125490\" stroke=\"none\" points=\"1331,-319 1278,-319 1278,-284 1331,-284 1331,-319\"/>\n<text text-anchor=\"start\" x=\"1286\" y=\"-300\" font-family=\"arial\" text-decoration=\"underline\" font-size=\"10.00\">lab.User</text>\n</a>\n</g>\n</g>\n<!-- lab.User&#45;&gt;7 -->\n<g id=\"edge17\" class=\"edge\">\n<title>lab.User-&gt;7</title>\n<path fill=\"none\" stroke=\"#000000\" stroke-width=\"0.75\" stroke-dasharray=\"5,2\" stroke-opacity=\"0.250980\" d=\"M1304.5,-284.15C1304.5,-265.66 1304.5,-237.44 1304.5,-232.31\"/>\n</g>\n<!-- surgery.BrainRegion -->\n<g id=\"node19\" class=\"node\">\n<title>surgery.BrainRegion</title>\n<g id=\"a_node19\"><a xlink:title=\"region_acronym       \r------------------------------\rregion_name          \r\">\n<polygon fill=\"#00ff00\" fill-opacity=\"0.188235\" stroke=\"#00ff00\" stroke-opacity=\"0.188235\" points=\"1134.5,-248 1008.5,-248 1008.5,-213 1134.5,-213 1134.5,-248\"/>\n<text text-anchor=\"start\" x=\"1016.5\" y=\"-228.4\" font-family=\"arial\" text-decoration=\"underline\" font-size=\"12.00\" fill=\"darkgreen\">surgery.BrainRegion</text>\n</a>\n</g>\n</g>\n<!-- surgery.BrainRegion&#45;&gt;surgery.Implantation -->\n<g id=\"edge18\" class=\"edge\">\n<title>surgery.BrainRegion-&gt;surgery.Implantation</title>\n<path fill=\"none\" stroke=\"#000000\" stroke-width=\"0.75\" stroke-opacity=\"0.250980\" d=\"M1019.37,-212.53C986.51,-201.84 944.25,-188.08 911.43,-177.4\"/>\n</g>\n<!-- opto.OptoWaveform&#45;&gt;opto.OptoWaveform.Sine -->\n<g id=\"edge19\" class=\"edge\">\n<title>opto.OptoWaveform-&gt;opto.OptoWaveform.Sine</title>\n<path fill=\"none\" stroke=\"#000000\" stroke-width=\"2\" stroke-opacity=\"0.250980\" d=\"M378.89,-217.73C332.27,-207.1 261.79,-191.02 200.5,-177 189.12,-174.4 176.74,-171.56 165.5,-168.98\"/>\n</g>\n<!-- opto.OptoWaveform&#45;&gt;opto.OptoStimParams -->\n<g id=\"edge20\" class=\"edge\">\n<title>opto.OptoWaveform-&gt;opto.OptoStimParams</title>\n<path fill=\"none\" stroke=\"#000000\" stroke-width=\"0.75\" stroke-dasharray=\"5,2\" stroke-opacity=\"0.250980\" d=\"M394,-213.15C369.99,-202.39 338.63,-188.34 314.34,-177.46\"/>\n</g>\n<!-- opto.OptoWaveform&#45;&gt;opto.OptoWaveform.Square -->\n<g id=\"edge21\" class=\"edge\">\n<title>opto.OptoWaveform-&gt;opto.OptoWaveform.Square</title>\n<path fill=\"none\" stroke=\"#000000\" stroke-width=\"2\" stroke-opacity=\"0.250980\" d=\"M430.5,-213.15C430.5,-199.28 430.5,-179.94 430.5,-168.98\"/>\n</g>\n<!-- opto.OptoWaveform&#45;&gt;opto.OptoWaveform.Ramp -->\n<g id=\"edge22\" class=\"edge\">\n<title>opto.OptoWaveform-&gt;opto.OptoWaveform.Ramp</title>\n<path fill=\"none\" stroke=\"#000000\" stroke-width=\"2\" stroke-opacity=\"0.250980\" d=\"M466.76,-213.15C497.51,-199.28 540.39,-179.94 564.71,-168.98\"/>\n</g>\n<!-- surgery.ImplantationType -->\n<g id=\"node21\" class=\"node\">\n<title>surgery.ImplantationType</title>\n<g id=\"a_node21\"><a xlink:title=\"implant_type         \r------------------------------\rimplant_description  \r\">\n<polygon fill=\"#000000\" fill-opacity=\"0.125490\" stroke=\"none\" points=\"1278,-248 1153,-248 1153,-213 1278,-213 1278,-248\"/>\n<text text-anchor=\"start\" x=\"1161\" y=\"-229\" font-family=\"arial\" text-decoration=\"underline\" font-size=\"10.00\">surgery.ImplantationType</text>\n</a>\n</g>\n</g>\n<!-- surgery.ImplantationType&#45;&gt;surgery.Implantation -->\n<g id=\"edge23\" class=\"edge\">\n<title>surgery.ImplantationType-&gt;surgery.Implantation</title>\n<path fill=\"none\" stroke=\"#000000\" stroke-width=\"0.75\" stroke-opacity=\"0.250980\" d=\"M1153.09,-215.03C1149.85,-214.33 1146.64,-213.65 1143.5,-213 1067.52,-197.28 979.62,-181.38 921.98,-171.26\"/>\n</g>\n</g>\n</svg>",
      "text/plain": [
       "<datajoint.diagram.Diagram at 0x1054218e0>"
      ]
     },
     "execution_count": 6,
     "metadata": {},
     "output_type": "execute_result"
    }
   ],
   "source": [
    "# Plot diagram of tables in multiple schemas.\n",
    "# Adding and subtracting looks downstream and upstream respectively\n",
    "dj.Diagram(surgery) + dj.Diagram(opto) - 1"
   ]
  },
  {
   "cell_type": "code",
   "execution_count": 10,
   "metadata": {},
   "outputs": [
    {
     "data": {
      "image/svg+xml": "<svg xmlns=\"http://www.w3.org/2000/svg\" xmlns:xlink=\"http://www.w3.org/1999/xlink\" width=\"254pt\" height=\"185pt\" viewBox=\"0.00 0.00 254.00 185.00\">\n<g id=\"graph0\" class=\"graph\" transform=\"scale(1 1) rotate(0) translate(4 181)\">\n<polygon fill=\"white\" stroke=\"none\" points=\"-4,4 -4,-181 250,-181 250,4 -4,4\"/>\n<!-- opto.OptoProtocol -->\n<g id=\"node1\" class=\"node\">\n<title>opto.OptoProtocol</title>\n<g id=\"a_node1\"><a xlink:title=\"→ session.Session\rprotocol_id          \r------------------------------\r→ opto.OptoStimParams\r→ surgery.Implantation\r→ [nullable] Device\r\">\n<polygon fill=\"#00ff00\" fill-opacity=\"0.188235\" stroke=\"#00ff00\" stroke-opacity=\"0.188235\" points=\"174.5,-35 61.5,-35 61.5,0 174.5,0 174.5,-35\"/>\n<text text-anchor=\"start\" x=\"69.5\" y=\"-15.4\" font-family=\"arial\" text-decoration=\"underline\" font-size=\"12.00\" fill=\"darkgreen\">opto.OptoProtocol</text>\n</a>\n</g>\n</g>\n<!-- session.Session -->\n<g id=\"node2\" class=\"node\">\n<title>session.Session</title>\n<g id=\"a_node2\"><a xlink:title=\"→ subject.Subject\rsession_id           \r------------------------------\rsession_datetime     \r\">\n<polygon fill=\"#00ff00\" fill-opacity=\"0.188235\" stroke=\"#00ff00\" stroke-opacity=\"0.188235\" points=\"104,-106 0,-106 0,-71 104,-71 104,-106\"/>\n<text text-anchor=\"start\" x=\"8\" y=\"-86.4\" font-family=\"arial\" text-decoration=\"underline\" font-size=\"12.00\" fill=\"darkgreen\">session.Session</text>\n</a>\n</g>\n</g>\n<!-- session.Session&#45;&gt;opto.OptoProtocol -->\n<g id=\"edge1\" class=\"edge\">\n<title>session.Session-&gt;opto.OptoProtocol</title>\n<path fill=\"none\" stroke=\"#000000\" stroke-width=\"0.75\" stroke-opacity=\"0.250980\" d=\"M67.98,-70.8C78.35,-59.95 91.82,-45.87 102.17,-35.05\"/>\n</g>\n<!-- surgery.Implantation -->\n<g id=\"node3\" class=\"node\">\n<title>surgery.Implantation</title>\n<g id=\"a_node3\"><a xlink:title=\"→ subject.Subject\rimplant_date         \r→ surgery.ImplantationType\r→ surgery.BrainRegion\r→ surgery.Hemisphere\r------------------------------\r→ lab.User.proj(surgeon=&quot;user&quot;)\rap                   \r→ surgery.CoordinateReference.proj(ap_ref=&quot;reference&quot;)\rml                   \r→ surgery.CoordinateReference.proj(ml_ref=&quot;reference&quot;)\rdv                   \r→ surgery.CoordinateReference.proj(dv_ref=&quot;reference&quot;)\rtheta=null           \rphi=null             \rbeta=null            \r\">\n<polygon fill=\"#00ff00\" fill-opacity=\"0.188235\" stroke=\"#00ff00\" stroke-opacity=\"0.188235\" points=\"246,-106 122,-106 122,-71 246,-71 246,-106\"/>\n<text text-anchor=\"start\" x=\"130\" y=\"-86.4\" font-family=\"arial\" text-decoration=\"underline\" font-size=\"12.00\" fill=\"darkgreen\">surgery.Implantation</text>\n</a>\n</g>\n</g>\n<!-- surgery.Implantation&#45;&gt;opto.OptoProtocol -->\n<g id=\"edge2\" class=\"edge\">\n<title>surgery.Implantation-&gt;opto.OptoProtocol</title>\n<path fill=\"none\" stroke=\"#000000\" stroke-width=\"0.75\" stroke-dasharray=\"5,2\" stroke-opacity=\"0.250980\" d=\"M168.02,-70.8C157.65,-59.95 144.18,-45.87 133.83,-35.05\"/>\n</g>\n<!-- subject.Subject -->\n<g id=\"node4\" class=\"node\">\n<title>subject.Subject</title>\n<g id=\"a_node4\"><a xlink:title=\"subject              \r------------------------------\rsubject_nickname=&quot;&quot;  \rsex                  \rsubject_birth_date   \rsubject_description=&quot;&quot; \r\">\n<polygon fill=\"#00ff00\" fill-opacity=\"0.188235\" stroke=\"#00ff00\" stroke-opacity=\"0.188235\" points=\"167,-177 69,-177 69,-142 167,-142 167,-177\"/>\n<text text-anchor=\"start\" x=\"77\" y=\"-157.4\" font-family=\"arial\" text-decoration=\"underline\" font-size=\"12.00\" fill=\"darkgreen\">subject.Subject</text>\n</a>\n</g>\n</g>\n<!-- subject.Subject&#45;&gt;session.Session -->\n<g id=\"edge3\" class=\"edge\">\n<title>subject.Subject-&gt;session.Session</title>\n<path fill=\"none\" stroke=\"#000000\" stroke-width=\"0.75\" stroke-opacity=\"0.250980\" d=\"M102.02,-141.8C91.65,-130.95 78.18,-116.87 67.83,-106.05\"/>\n</g>\n<!-- subject.Subject&#45;&gt;surgery.Implantation -->\n<g id=\"edge4\" class=\"edge\">\n<title>subject.Subject-&gt;surgery.Implantation</title>\n<path fill=\"none\" stroke=\"#000000\" stroke-width=\"0.75\" stroke-opacity=\"0.250980\" d=\"M133.98,-141.8C144.35,-130.95 157.82,-116.87 168.17,-106.05\"/>\n</g>\n</g>\n</svg>",
      "text/plain": [
       "<datajoint.diagram.Diagram at 0x1274adf70>"
      ]
     },
     "execution_count": 10,
     "metadata": {},
     "output_type": "execute_result"
    }
   ],
   "source": [
    "# Plot diagram of selected tables and schemas\n",
    "(\n",
    "    dj.Diagram(subject.Subject)\n",
    "    + dj.Diagram(session.Session)\n",
    "    + dj.Diagram(surgery.Implantation)\n",
    "    + dj.Diagram(opto.OptoProtocol)\n",
    ")"
   ]
  },
  {
   "cell_type": "markdown",
   "metadata": {
    "lines_to_next_cell": 0,
    "title": "`heading`:"
   },
   "source": [
    "`describe()`: show table definition with foreign key references.\n"
   ]
  },
  {
   "cell_type": "code",
   "execution_count": 11,
   "metadata": {},
   "outputs": [
    {
     "name": "stdout",
     "output_type": "stream",
     "text": [
      "-> session.Session\n",
      "protocol_id          : int                          \n",
      "---\n",
      "-> opto.OptoStimParams\n",
      "-> surgery.Implantation\n",
      "-> [nullable] Device\n",
      "\n"
     ]
    },
    {
     "data": {
      "text/plain": [
       "'-> session.Session\\nprotocol_id          : int                          \\n---\\n-> opto.OptoStimParams\\n-> surgery.Implantation\\n-> [nullable] Device\\n'"
      ]
     },
     "execution_count": 11,
     "metadata": {},
     "output_type": "execute_result"
    }
   ],
   "source": [
    "opto.OptoProtocol.describe()"
   ]
  },
  {
   "cell_type": "markdown",
   "metadata": {},
   "source": [
    "`heading`: show attribute definitions regardless of foreign key references\n"
   ]
  },
  {
   "cell_type": "code",
   "execution_count": 12,
   "metadata": {},
   "outputs": [
    {
     "data": {
      "text/plain": [
       "# \n",
       "subject              : varchar(8)                   # \n",
       "session_id           : int                          # \n",
       "protocol_id          : int                          # \n",
       "---\n",
       "opto_params_id       : smallint                     # \n",
       "implant_date         : datetime                     # surgery date\n",
       "implant_type         : varchar(16)                  # Short name for type of implanted device\n",
       "region_acronym       : varchar(32)                  # Brain region shorthand\n",
       "hemisphere           : varchar(8)                   # Brain region hemisphere\n",
       "device=null          : varchar(32)                  # "
      ]
     },
     "execution_count": 12,
     "metadata": {},
     "output_type": "execute_result"
    }
   ],
   "source": [
    "opto.OptoProtocol.heading"
   ]
  },
  {
   "cell_type": "markdown",
   "metadata": {},
   "source": [
    "## Elements in `workflow-optogenetics`\n",
    "\n",
    "[`lab`](https://datajoint.com/docs/elements/element-animal/): lab management related information, such as Lab, User, Project, Protocol, Source.\n"
   ]
  },
  {
   "cell_type": "code",
   "execution_count": 13,
   "metadata": {},
   "outputs": [
    {
     "data": {
      "image/svg+xml": "<svg xmlns=\"http://www.w3.org/2000/svg\" xmlns:xlink=\"http://www.w3.org/1999/xlink\" width=\"1184pt\" height=\"114pt\" viewBox=\"0.00 0.00 1183.50 114.00\">\n<g id=\"graph0\" class=\"graph\" transform=\"scale(1 1) rotate(0) translate(4 110)\">\n<polygon fill=\"white\" stroke=\"none\" points=\"-4,4 -4,-110 1179.5,-110 1179.5,4 -4,4\"/>\n<!-- lab.Lab.Organization -->\n<g id=\"node1\" class=\"node\">\n<title>lab.Lab.Organization</title>\n<g id=\"a_node1\"><a xlink:title=\"→ lab.Lab\r→ lab.Organization\r\">\n<polygon fill=\"none\" stroke=\"none\" points=\"152,-27 46,-27 46,-8 152,-8 152,-27\"/>\n<text text-anchor=\"middle\" x=\"99\" y=\"-15\" font-family=\"arial\" font-size=\"10.00\">lab.Lab.Organization</text>\n</a>\n</g>\n</g>\n<!-- lab.Location -->\n<g id=\"node2\" class=\"node\">\n<title>lab.Location</title>\n<g id=\"a_node2\"><a xlink:title=\"→ lab.Lab\rlocation             \r------------------------------\rlocation_description=&quot;&quot; \r\">\n<polygon fill=\"#000000\" fill-opacity=\"0.125490\" stroke=\"none\" points=\"239.5,-35 170.5,-35 170.5,0 239.5,0 239.5,-35\"/>\n<text text-anchor=\"start\" x=\"178.5\" y=\"-16\" font-family=\"arial\" text-decoration=\"underline\" font-size=\"10.00\">lab.Location</text>\n</a>\n</g>\n</g>\n<!-- lab.Project -->\n<g id=\"node3\" class=\"node\">\n<title>lab.Project</title>\n<g id=\"a_node3\"><a xlink:title=\"project              \r------------------------------\rproject_description=&quot;&quot; \r\">\n<polygon fill=\"#000000\" fill-opacity=\"0.125490\" stroke=\"none\" points=\"662.5,-106 599.5,-106 599.5,-71 662.5,-71 662.5,-106\"/>\n<text text-anchor=\"start\" x=\"607.5\" y=\"-87\" font-family=\"arial\" text-decoration=\"underline\" font-size=\"10.00\">lab.Project</text>\n</a>\n</g>\n</g>\n<!-- lab.ProjectKeywords -->\n<g id=\"node4\" class=\"node\">\n<title>lab.ProjectKeywords</title>\n<g id=\"a_node4\"><a xlink:title=\"→ lab.Project\rkeyword              \r\">\n<polygon fill=\"#00ff00\" fill-opacity=\"0.188235\" stroke=\"#00ff00\" stroke-opacity=\"0.188235\" points=\"620.5,-35 493.5,-35 493.5,0 620.5,0 620.5,-35\"/>\n<text text-anchor=\"start\" x=\"501.5\" y=\"-15.4\" font-family=\"arial\" text-decoration=\"underline\" font-size=\"12.00\" fill=\"darkgreen\">lab.ProjectKeywords</text>\n</a>\n</g>\n</g>\n<!-- lab.Project&#45;&gt;lab.ProjectKeywords -->\n<g id=\"edge1\" class=\"edge\">\n<title>lab.Project-&gt;lab.ProjectKeywords</title>\n<path fill=\"none\" stroke=\"#000000\" stroke-width=\"0.75\" stroke-opacity=\"0.250980\" d=\"M613.46,-71.15C601.92,-60.39 586.85,-46.34 575.18,-35.46\"/>\n</g>\n<!-- lab.ProjectPublication -->\n<g id=\"node9\" class=\"node\">\n<title>lab.ProjectPublication</title>\n<g id=\"a_node9\"><a xlink:title=\"→ lab.Project\rpublication          \r\">\n<polygon fill=\"#00ff00\" fill-opacity=\"0.188235\" stroke=\"#00ff00\" stroke-opacity=\"0.188235\" points=\"773,-35 639,-35 639,0 773,0 773,-35\"/>\n<text text-anchor=\"start\" x=\"647\" y=\"-15.4\" font-family=\"arial\" text-decoration=\"underline\" font-size=\"12.00\" fill=\"darkgreen\">lab.ProjectPublication</text>\n</a>\n</g>\n</g>\n<!-- lab.Project&#45;&gt;lab.ProjectPublication -->\n<g id=\"edge2\" class=\"edge\">\n<title>lab.Project-&gt;lab.ProjectPublication</title>\n<path fill=\"none\" stroke=\"#000000\" stroke-width=\"0.75\" stroke-opacity=\"0.250980\" d=\"M648.77,-71.15C660.47,-60.39 675.74,-46.34 687.57,-35.46\"/>\n</g>\n<!-- lab.ProjectUser -->\n<g id=\"node10\" class=\"node\">\n<title>lab.ProjectUser</title>\n<g id=\"a_node10\"><a xlink:title=\"→ lab.Project\r→ lab.User\r\">\n<polygon fill=\"#00ff00\" fill-opacity=\"0.188235\" stroke=\"#00ff00\" stroke-opacity=\"0.188235\" points=\"475.5,-35 376.5,-35 376.5,0 475.5,0 475.5,-35\"/>\n<text text-anchor=\"middle\" x=\"426\" y=\"-14.4\" font-family=\"arial\" font-size=\"12.00\" fill=\"darkgreen\">lab.ProjectUser</text>\n</a>\n</g>\n</g>\n<!-- lab.Project&#45;&gt;lab.ProjectUser -->\n<g id=\"edge3\" class=\"edge\">\n<title>lab.Project-&gt;lab.ProjectUser</title>\n<path fill=\"none\" stroke=\"#000000\" stroke-width=\"0.75\" stroke-opacity=\"0.250980\" d=\"M599.86,-77.02C566.93,-65.94 514.49,-48.29 475.81,-35.26\"/>\n</g>\n<!-- lab.ProjectSourceCode -->\n<g id=\"node11\" class=\"node\">\n<title>lab.ProjectSourceCode</title>\n<g id=\"a_node11\"><a xlink:title=\"→ lab.Project\rrepository_url       \r------------------------------\rrepository_name=&quot;&quot;   \r\">\n<polygon fill=\"#00ff00\" fill-opacity=\"0.188235\" stroke=\"#00ff00\" stroke-opacity=\"0.188235\" points=\"932.5,-35 791.5,-35 791.5,0 932.5,0 932.5,-35\"/>\n<text text-anchor=\"start\" x=\"799.5\" y=\"-15.4\" font-family=\"arial\" text-decoration=\"underline\" font-size=\"12.00\" fill=\"darkgreen\">lab.ProjectSourceCode</text>\n</a>\n</g>\n</g>\n<!-- lab.Project&#45;&gt;lab.ProjectSourceCode -->\n<g id=\"edge4\" class=\"edge\">\n<title>lab.Project-&gt;lab.ProjectSourceCode</title>\n<path fill=\"none\" stroke=\"#000000\" stroke-width=\"0.75\" stroke-opacity=\"0.250980\" d=\"M662.15,-78.19C698.73,-67.27 760.12,-48.93 805.23,-35.46\"/>\n</g>\n<!-- lab.UserRole -->\n<g id=\"node5\" class=\"node\">\n<title>lab.UserRole</title>\n<g id=\"a_node5\"><a xlink:title=\"user_role            \r\">\n<polygon fill=\"#000000\" fill-opacity=\"0.125490\" stroke=\"none\" points=\"345,-106 271,-106 271,-71 345,-71 345,-106\"/>\n<text text-anchor=\"start\" x=\"279\" y=\"-87\" font-family=\"arial\" text-decoration=\"underline\" font-size=\"10.00\">lab.UserRole</text>\n</a>\n</g>\n</g>\n<!-- lab.LabMembership -->\n<g id=\"node15\" class=\"node\">\n<title>lab.LabMembership</title>\n<g id=\"a_node15\"><a xlink:title=\"→ lab.Lab\r→ lab.User\r------------------------------\r→ [nullable] lab.UserRole\r\">\n<polygon fill=\"#000000\" fill-opacity=\"0.125490\" stroke=\"none\" points=\"358.5,-35 257.5,-35 257.5,0 358.5,0 358.5,-35\"/>\n<text text-anchor=\"middle\" x=\"308\" y=\"-15\" font-family=\"arial\" font-size=\"10.00\">lab.LabMembership</text>\n</a>\n</g>\n</g>\n<!-- lab.UserRole&#45;&gt;lab.LabMembership -->\n<g id=\"edge5\" class=\"edge\">\n<title>lab.UserRole-&gt;lab.LabMembership</title>\n<path fill=\"none\" stroke=\"#000000\" stroke-width=\"0.75\" stroke-dasharray=\"5,2\" stroke-opacity=\"0.250980\" d=\"M308,-71.15C308,-60.15 308,-45.71 308,-34.73\"/>\n</g>\n<!-- lab.ProtocolType -->\n<g id=\"node6\" class=\"node\">\n<title>lab.ProtocolType</title>\n<g id=\"a_node6\"><a xlink:title=\"protocol_type        \r\">\n<polygon fill=\"#000000\" fill-opacity=\"0.125490\" stroke=\"none\" points=\"1029.5,-106 940.5,-106 940.5,-71 1029.5,-71 1029.5,-106\"/>\n<text text-anchor=\"start\" x=\"948.5\" y=\"-87\" font-family=\"arial\" text-decoration=\"underline\" font-size=\"10.00\">lab.ProtocolType</text>\n</a>\n</g>\n</g>\n<!-- lab.Protocol -->\n<g id=\"node8\" class=\"node\">\n<title>lab.Protocol</title>\n<g id=\"a_node8\"><a xlink:title=\"protocol             \r------------------------------\r→ lab.ProtocolType\rprotocol_description=&quot;&quot; \r\">\n<polygon fill=\"#000000\" fill-opacity=\"0.125490\" stroke=\"none\" points=\"1019,-35 951,-35 951,0 1019,0 1019,-35\"/>\n<text text-anchor=\"start\" x=\"959\" y=\"-16\" font-family=\"arial\" text-decoration=\"underline\" font-size=\"10.00\">lab.Protocol</text>\n</a>\n</g>\n</g>\n<!-- lab.ProtocolType&#45;&gt;lab.Protocol -->\n<g id=\"edge6\" class=\"edge\">\n<title>lab.ProtocolType-&gt;lab.Protocol</title>\n<path fill=\"none\" stroke=\"#000000\" stroke-width=\"0.75\" stroke-dasharray=\"5,2\" stroke-opacity=\"0.250980\" d=\"M985,-71.15C985,-60.15 985,-45.71 985,-34.73\"/>\n</g>\n<!-- lab.User -->\n<g id=\"node7\" class=\"node\">\n<title>lab.User</title>\n<g id=\"a_node7\"><a xlink:title=\"user                 \r------------------------------\ruser_email=&quot;&quot;        \ruser_cellphone=&quot;&quot;    \ruser_fullname=&quot;&quot;     \r\">\n<polygon fill=\"#000000\" fill-opacity=\"0.125490\" stroke=\"none\" points=\"434.5,-106 381.5,-106 381.5,-71 434.5,-71 434.5,-106\"/>\n<text text-anchor=\"start\" x=\"389.5\" y=\"-87\" font-family=\"arial\" text-decoration=\"underline\" font-size=\"10.00\">lab.User</text>\n</a>\n</g>\n</g>\n<!-- lab.User&#45;&gt;lab.ProjectUser -->\n<g id=\"edge7\" class=\"edge\">\n<title>lab.User-&gt;lab.ProjectUser</title>\n<path fill=\"none\" stroke=\"#000000\" stroke-width=\"0.75\" stroke-opacity=\"0.250980\" d=\"M412.27,-71.15C415.09,-60.31 418.79,-46.13 421.64,-35.21\"/>\n</g>\n<!-- lab.User&#45;&gt;lab.LabMembership -->\n<g id=\"edge8\" class=\"edge\">\n<title>lab.User-&gt;lab.LabMembership</title>\n<path fill=\"none\" stroke=\"#000000\" stroke-width=\"0.75\" stroke-opacity=\"0.250980\" d=\"M384.3,-71.15C368.48,-60.23 347.74,-45.92 331.88,-34.97\"/>\n</g>\n<!-- lab.Organization -->\n<g id=\"node12\" class=\"node\">\n<title>lab.Organization</title>\n<g id=\"a_node12\"><a xlink:title=\"organization         \r------------------------------\rorganization_name    \rorganization_address=&quot;&quot; \rorganization_comment=&quot;&quot; \r\">\n<polygon fill=\"#00ff00\" fill-opacity=\"0.188235\" stroke=\"#00ff00\" stroke-opacity=\"0.188235\" points=\"104,-106 0,-106 0,-71 104,-71 104,-106\"/>\n<text text-anchor=\"start\" x=\"8\" y=\"-86.4\" font-family=\"arial\" text-decoration=\"underline\" font-size=\"12.00\" fill=\"darkgreen\">lab.Organization</text>\n</a>\n</g>\n</g>\n<!-- lab.Organization&#45;&gt;lab.Lab.Organization -->\n<g id=\"edge9\" class=\"edge\">\n<title>lab.Organization-&gt;lab.Lab.Organization</title>\n<path fill=\"none\" stroke=\"#000000\" stroke-width=\"0.75\" stroke-opacity=\"0.250980\" d=\"M63.38,-70.8C72.83,-56.92 85.89,-37.75 93.29,-26.89\"/>\n</g>\n<!-- lab.Lab -->\n<g id=\"node13\" class=\"node\">\n<title>lab.Lab</title>\n<g id=\"a_node13\"><a xlink:title=\"lab                  \r------------------------------\rlab_name             \raddress              \rtime_zone            \r\">\n<polygon fill=\"#000000\" fill-opacity=\"0.125490\" stroke=\"none\" points=\"170,-106 122,-106 122,-71 170,-71 170,-106\"/>\n<text text-anchor=\"start\" x=\"130\" y=\"-87\" font-family=\"arial\" text-decoration=\"underline\" font-size=\"10.00\">lab.Lab</text>\n</a>\n</g>\n</g>\n<!-- lab.Lab&#45;&gt;lab.Lab.Organization -->\n<g id=\"edge10\" class=\"edge\">\n<title>lab.Lab-&gt;lab.Lab.Organization</title>\n<path fill=\"none\" stroke=\"#000000\" stroke-width=\"0.75\" stroke-opacity=\"0.250980\" d=\"M134.86,-71.15C125.41,-57.28 112.24,-37.94 104.77,-26.98\"/>\n</g>\n<!-- lab.Lab&#45;&gt;lab.Location -->\n<g id=\"edge11\" class=\"edge\">\n<title>lab.Lab-&gt;lab.Location</title>\n<path fill=\"none\" stroke=\"#000000\" stroke-width=\"0.75\" stroke-opacity=\"0.250980\" d=\"M159.98,-71.15C169.39,-60.15 181.73,-45.71 191.12,-34.73\"/>\n</g>\n<!-- lab.Lab&#45;&gt;lab.LabMembership -->\n<g id=\"edge12\" class=\"edge\">\n<title>lab.Lab-&gt;lab.LabMembership</title>\n<path fill=\"none\" stroke=\"#000000\" stroke-width=\"0.75\" stroke-opacity=\"0.250980\" d=\"M169.9,-77.32C196.13,-66.15 238.61,-48.05 269.54,-34.88\"/>\n</g>\n<!-- Device -->\n<g id=\"node14\" class=\"node\">\n<title>Device</title>\n<g id=\"a_node14\"><a xlink:title=\"device               \r------------------------------\rmodality             \rdescription=null     \r\">\n<polygon fill=\"#000000\" fill-opacity=\"0.125490\" stroke=\"none\" points=\"1094.5,-106 1047.5,-106 1047.5,-71 1094.5,-71 1094.5,-106\"/>\n<text text-anchor=\"start\" x=\"1055.5\" y=\"-87\" font-family=\"arial\" text-decoration=\"underline\" font-size=\"10.00\">Device</text>\n</a>\n</g>\n</g>\n<!-- lab.Source -->\n<g id=\"node16\" class=\"node\">\n<title>lab.Source</title>\n<g id=\"a_node16\"><a xlink:title=\"source               \r------------------------------\rsource_name          \rcontact_details=&quot;&quot;   \rsource_description=&quot;&quot; \r\">\n<polygon fill=\"#000000\" fill-opacity=\"0.125490\" stroke=\"none\" points=\"1175.5,-106 1112.5,-106 1112.5,-71 1175.5,-71 1175.5,-106\"/>\n<text text-anchor=\"start\" x=\"1120.5\" y=\"-87\" font-family=\"arial\" text-decoration=\"underline\" font-size=\"10.00\">lab.Source</text>\n</a>\n</g>\n</g>\n</g>\n</svg>",
      "text/plain": [
       "<datajoint.diagram.Diagram at 0x1275e0040>"
      ]
     },
     "execution_count": 13,
     "metadata": {},
     "output_type": "execute_result"
    }
   ],
   "source": [
    "dj.Diagram(lab)"
   ]
  },
  {
   "cell_type": "markdown",
   "metadata": {},
   "source": [
    "[`subject`](https://datajoint.com/docs/elements/element-animal/): general animal metadata and surgery information"
   ]
  },
  {
   "cell_type": "code",
   "execution_count": 14,
   "metadata": {},
   "outputs": [
    {
     "data": {
      "image/svg+xml": "<svg xmlns=\"http://www.w3.org/2000/svg\" xmlns:xlink=\"http://www.w3.org/1999/xlink\" width=\"1282pt\" height=\"185pt\" viewBox=\"0.00 0.00 1281.50 185.00\">\n<g id=\"graph0\" class=\"graph\" transform=\"scale(1 1) rotate(0) translate(4 181)\">\n<polygon fill=\"white\" stroke=\"none\" points=\"-4,4 -4,-181 1277.5,-181 1277.5,4 -4,4\"/>\n<!-- subject.Line -->\n<g id=\"node1\" class=\"node\">\n<title>subject.Line</title>\n<g id=\"a_node1\"><a xlink:title=\"line                 \r------------------------------\rspecies=&quot;&quot;           \rline_description=&quot;&quot;  \rtarget_phenotype=&quot;&quot;  \ris_active            \r\">\n<polygon fill=\"#000000\" fill-opacity=\"0.125490\" stroke=\"none\" points=\"82.5,-177 13.5,-177 13.5,-142 82.5,-142 82.5,-177\"/>\n<text text-anchor=\"start\" x=\"21.5\" y=\"-158\" font-family=\"arial\" text-decoration=\"underline\" font-size=\"10.00\">subject.Line</text>\n</a>\n</g>\n</g>\n<!-- subject.Subject.Line -->\n<g id=\"node7\" class=\"node\">\n<title>subject.Subject.Line</title>\n<g id=\"a_node7\"><a xlink:title=\"→ subject.Subject\r------------------------------\r→ subject.Line\r\">\n<polygon fill=\"none\" stroke=\"none\" points=\"219.5,-98 114.5,-98 114.5,-79 219.5,-79 219.5,-98\"/>\n<text text-anchor=\"middle\" x=\"167\" y=\"-86\" font-family=\"arial\" font-size=\"10.00\">subject.Subject.Line</text>\n</a>\n</g>\n</g>\n<!-- subject.Line&#45;&gt;subject.Subject.Line -->\n<g id=\"edge1\" class=\"edge\">\n<title>subject.Line-&gt;subject.Subject.Line</title>\n<path fill=\"none\" stroke=\"#000000\" stroke-width=\"0.75\" stroke-dasharray=\"5,2\" stroke-opacity=\"0.250980\" d=\"M76.2,-142.15C100.12,-128.28 133.47,-108.94 152.38,-97.98\"/>\n</g>\n<!-- subject.Line.Allele -->\n<g id=\"node11\" class=\"node\">\n<title>subject.Line.Allele</title>\n<g id=\"a_node11\"><a xlink:title=\"→ subject.Line\r→ subject.Allele\r\">\n<polygon fill=\"none\" stroke=\"none\" points=\"96,-98 0,-98 0,-79 96,-79 96,-98\"/>\n<text text-anchor=\"middle\" x=\"48\" y=\"-86\" font-family=\"arial\" font-size=\"10.00\">subject.Line.Allele</text>\n</a>\n</g>\n</g>\n<!-- subject.Line&#45;&gt;subject.Line.Allele -->\n<g id=\"edge2\" class=\"edge\">\n<title>subject.Line-&gt;subject.Line.Allele</title>\n<path fill=\"none\" stroke=\"#000000\" stroke-width=\"0.75\" stroke-opacity=\"0.250980\" d=\"M48,-142.15C48,-128.28 48,-108.94 48,-97.98\"/>\n</g>\n<!-- subject.Zygosity -->\n<g id=\"node2\" class=\"node\">\n<title>subject.Zygosity</title>\n<g id=\"a_node2\"><a xlink:title=\"→ subject.Subject\r→ subject.Allele\r------------------------------\rzygosity             \r\">\n<polygon fill=\"#00ff00\" fill-opacity=\"0.188235\" stroke=\"#00ff00\" stroke-opacity=\"0.188235\" points=\"467.5,-106 364.5,-106 364.5,-71 467.5,-71 467.5,-106\"/>\n<text text-anchor=\"middle\" x=\"416\" y=\"-85.4\" font-family=\"arial\" font-size=\"12.00\" fill=\"darkgreen\">subject.Zygosity</text>\n</a>\n</g>\n</g>\n<!-- subject.Subject.Lab -->\n<g id=\"node3\" class=\"node\">\n<title>subject.Subject.Lab</title>\n<g id=\"a_node3\"><a xlink:title=\"→ subject.Subject\r→ lab.Lab\r------------------------------\rsubject_alias=&quot;&quot;     \r\">\n<polygon fill=\"none\" stroke=\"none\" points=\"588.5,-98 485.5,-98 485.5,-79 588.5,-79 588.5,-98\"/>\n<text text-anchor=\"middle\" x=\"537\" y=\"-86\" font-family=\"arial\" font-size=\"10.00\">subject.Subject.Lab</text>\n</a>\n</g>\n</g>\n<!-- subject.SubjectCull -->\n<g id=\"node4\" class=\"node\">\n<title>subject.SubjectCull</title>\n<g id=\"a_node4\"><a xlink:title=\"→ subject.SubjectDeath\r------------------------------\rcull_method=&quot;&quot;       \rcull_reason=&quot;&quot;       \rcull_notes=&quot;&quot;        \r\">\n<polygon fill=\"#00ff00\" fill-opacity=\"0.188235\" stroke=\"#00ff00\" stroke-opacity=\"0.188235\" points=\"732,-35 612,-35 612,0 732,0 732,-35\"/>\n<text text-anchor=\"middle\" x=\"672\" y=\"-14.4\" font-family=\"arial\" font-size=\"12.00\" fill=\"darkgreen\">subject.SubjectCull</text>\n</a>\n</g>\n</g>\n<!-- subject.SubjectDeath -->\n<g id=\"node5\" class=\"node\">\n<title>subject.SubjectDeath</title>\n<g id=\"a_node5\"><a xlink:title=\"→ subject.Subject\r------------------------------\rdeath_date           \r\">\n<polygon fill=\"#00ff00\" fill-opacity=\"0.188235\" stroke=\"#00ff00\" stroke-opacity=\"0.188235\" points=\"737.5,-106 606.5,-106 606.5,-71 737.5,-71 737.5,-106\"/>\n<text text-anchor=\"middle\" x=\"672\" y=\"-85.4\" font-family=\"arial\" font-size=\"12.00\" fill=\"darkgreen\">subject.SubjectDeath</text>\n</a>\n</g>\n</g>\n<!-- subject.SubjectDeath&#45;&gt;subject.SubjectCull -->\n<g id=\"edge3\" class=\"edge\">\n<title>subject.SubjectDeath-&gt;subject.SubjectCull</title>\n<path fill=\"none\" stroke=\"#000000\" stroke-width=\"2\" stroke-opacity=\"0.250980\" d=\"M672,-70.8C672,-59.95 672,-45.87 672,-35.05\"/>\n</g>\n<!-- subject.Subject.Strain -->\n<g id=\"node6\" class=\"node\">\n<title>subject.Subject.Strain</title>\n<g id=\"a_node6\"><a xlink:title=\"→ subject.Subject\r------------------------------\r→ subject.Strain\r\">\n<polygon fill=\"none\" stroke=\"none\" points=\"1273.5,-98 1160.5,-98 1160.5,-79 1273.5,-79 1273.5,-98\"/>\n<text text-anchor=\"middle\" x=\"1217\" y=\"-86\" font-family=\"arial\" font-size=\"10.00\">subject.Subject.Strain</text>\n</a>\n</g>\n</g>\n<!-- subject.Subject.User -->\n<g id=\"node8\" class=\"node\">\n<title>subject.Subject.User</title>\n<g id=\"a_node8\"><a xlink:title=\"→ subject.Subject\r→ lab.User\r\">\n<polygon fill=\"none\" stroke=\"none\" points=\"864,-98 756,-98 756,-79 864,-79 864,-98\"/>\n<text text-anchor=\"middle\" x=\"810\" y=\"-86\" font-family=\"arial\" font-size=\"10.00\">subject.Subject.User</text>\n</a>\n</g>\n</g>\n<!-- subject.Subject.Protocol -->\n<g id=\"node9\" class=\"node\">\n<title>subject.Subject.Protocol</title>\n<g id=\"a_node9\"><a xlink:title=\"→ subject.Subject\r→ lab.Protocol\r\">\n<polygon fill=\"none\" stroke=\"none\" points=\"1005.5,-98 882.5,-98 882.5,-79 1005.5,-79 1005.5,-98\"/>\n<text text-anchor=\"middle\" x=\"944\" y=\"-86\" font-family=\"arial\" font-size=\"10.00\">subject.Subject.Protocol</text>\n</a>\n</g>\n</g>\n<!-- subject.Strain -->\n<g id=\"node10\" class=\"node\">\n<title>subject.Strain</title>\n<g id=\"a_node10\"><a xlink:title=\"strain               \r------------------------------\rstrain_standard_name \rstrain_desc=&quot;&quot;       \r\">\n<polygon fill=\"#000000\" fill-opacity=\"0.125490\" stroke=\"none\" points=\"1255.5,-177 1178.5,-177 1178.5,-142 1255.5,-142 1255.5,-177\"/>\n<text text-anchor=\"start\" x=\"1186.5\" y=\"-158\" font-family=\"arial\" text-decoration=\"underline\" font-size=\"10.00\">subject.Strain</text>\n</a>\n</g>\n</g>\n<!-- subject.Strain&#45;&gt;subject.Subject.Strain -->\n<g id=\"edge4\" class=\"edge\">\n<title>subject.Strain-&gt;subject.Subject.Strain</title>\n<path fill=\"none\" stroke=\"#000000\" stroke-width=\"0.75\" stroke-dasharray=\"5,2\" stroke-opacity=\"0.250980\" d=\"M1217,-142.15C1217,-128.28 1217,-108.94 1217,-97.98\"/>\n</g>\n<!-- subject.Subject.Source -->\n<g id=\"node12\" class=\"node\">\n<title>subject.Subject.Source</title>\n<g id=\"a_node12\"><a xlink:title=\"→ subject.Subject\r------------------------------\r→ lab.Source\r\">\n<polygon fill=\"none\" stroke=\"none\" points=\"1142,-98 1024,-98 1024,-79 1142,-79 1142,-98\"/>\n<text text-anchor=\"middle\" x=\"1083\" y=\"-86\" font-family=\"arial\" font-size=\"10.00\">subject.Subject.Source</text>\n</a>\n</g>\n</g>\n<!-- subject.Allele.Source -->\n<g id=\"node13\" class=\"node\">\n<title>subject.Allele.Source</title>\n<g id=\"a_node13\"><a xlink:title=\"→ subject.Allele\r------------------------------\r→ lab.Source\rsource_identifier=&quot;&quot; \rsource_url=&quot;&quot;        \rexpression_data_url=&quot;&quot; \r\">\n<polygon fill=\"none\" stroke=\"none\" points=\"346.5,-98 237.5,-98 237.5,-79 346.5,-79 346.5,-98\"/>\n<text text-anchor=\"middle\" x=\"292\" y=\"-86\" font-family=\"arial\" font-size=\"10.00\">subject.Allele.Source</text>\n</a>\n</g>\n</g>\n<!-- subject.Allele -->\n<g id=\"node14\" class=\"node\">\n<title>subject.Allele</title>\n<g id=\"a_node14\"><a xlink:title=\"allele               \r------------------------------\rallele_standard_name=&quot;&quot; \r\">\n<polygon fill=\"#000000\" fill-opacity=\"0.125490\" stroke=\"none\" points=\"329.5,-177 254.5,-177 254.5,-142 329.5,-142 329.5,-177\"/>\n<text text-anchor=\"start\" x=\"262.5\" y=\"-158\" font-family=\"arial\" text-decoration=\"underline\" font-size=\"10.00\">subject.Allele</text>\n</a>\n</g>\n</g>\n<!-- subject.Allele&#45;&gt;subject.Zygosity -->\n<g id=\"edge5\" class=\"edge\">\n<title>subject.Allele-&gt;subject.Zygosity</title>\n<path fill=\"none\" stroke=\"#000000\" stroke-width=\"0.75\" stroke-opacity=\"0.250980\" d=\"M321.39,-142.15C340.72,-131.39 365.98,-117.34 385.53,-106.46\"/>\n</g>\n<!-- subject.Allele&#45;&gt;subject.Line.Allele -->\n<g id=\"edge6\" class=\"edge\">\n<title>subject.Allele-&gt;subject.Line.Allele</title>\n<path fill=\"none\" stroke=\"#000000\" stroke-width=\"0.75\" stroke-opacity=\"0.250980\" d=\"M254.72,-148.13C216.96,-137.6 156.89,-120.79 105,-106 95.89,-103.4 85.96,-100.54 76.98,-97.94\"/>\n</g>\n<!-- subject.Allele&#45;&gt;subject.Allele.Source -->\n<g id=\"edge7\" class=\"edge\">\n<title>subject.Allele-&gt;subject.Allele.Source</title>\n<path fill=\"none\" stroke=\"#000000\" stroke-width=\"2\" stroke-opacity=\"0.250980\" d=\"M292,-142.15C292,-128.28 292,-108.94 292,-97.98\"/>\n</g>\n<!-- subject.Subject -->\n<g id=\"node15\" class=\"node\">\n<title>subject.Subject</title>\n<g id=\"a_node15\"><a xlink:title=\"subject              \r------------------------------\rsubject_nickname=&quot;&quot;  \rsex                  \rsubject_birth_date   \rsubject_description=&quot;&quot; \r\">\n<polygon fill=\"#00ff00\" fill-opacity=\"0.188235\" stroke=\"#00ff00\" stroke-opacity=\"0.188235\" points=\"859,-177 761,-177 761,-142 859,-142 859,-177\"/>\n<text text-anchor=\"start\" x=\"769\" y=\"-157.4\" font-family=\"arial\" text-decoration=\"underline\" font-size=\"12.00\" fill=\"darkgreen\">subject.Subject</text>\n</a>\n</g>\n</g>\n<!-- subject.Subject&#45;&gt;subject.Zygosity -->\n<g id=\"edge8\" class=\"edge\">\n<title>subject.Subject-&gt;subject.Zygosity</title>\n<path fill=\"none\" stroke=\"#000000\" stroke-width=\"0.75\" stroke-opacity=\"0.250980\" d=\"M760.73,-152.52C695.28,-144.17 576.28,-127.6 476,-106 473.36,-105.43 470.66,-104.82 467.95,-104.17\"/>\n</g>\n<!-- subject.Subject&#45;&gt;subject.Subject.Lab -->\n<g id=\"edge9\" class=\"edge\">\n<title>subject.Subject-&gt;subject.Subject.Lab</title>\n<path fill=\"none\" stroke=\"#000000\" stroke-width=\"0.75\" stroke-opacity=\"0.250980\" d=\"M760.84,-146.78C717.61,-136.37 653.02,-120.6 597,-106 587.28,-103.47 576.7,-100.59 567.17,-97.97\"/>\n</g>\n<!-- subject.Subject&#45;&gt;subject.SubjectDeath -->\n<g id=\"edge10\" class=\"edge\">\n<title>subject.Subject-&gt;subject.SubjectDeath</title>\n<path fill=\"none\" stroke=\"#000000\" stroke-width=\"2\" stroke-opacity=\"0.250980\" d=\"M776.24,-141.62C754.86,-130.93 727.3,-117.15 705.89,-106.44\"/>\n</g>\n<!-- subject.Subject&#45;&gt;subject.Subject.Strain -->\n<g id=\"edge11\" class=\"edge\">\n<title>subject.Subject-&gt;subject.Subject.Strain</title>\n<path fill=\"none\" stroke=\"#000000\" stroke-width=\"2\" stroke-opacity=\"0.250980\" d=\"M859.38,-152.35C925.93,-143.73 1047.95,-126.77 1151,-106 1162.35,-103.71 1174.68,-100.76 1185.58,-97.98\"/>\n</g>\n<!-- subject.Subject&#45;&gt;subject.Subject.Line -->\n<g id=\"edge12\" class=\"edge\">\n<title>subject.Subject-&gt;subject.Subject.Line</title>\n<path fill=\"none\" stroke=\"#000000\" stroke-width=\"2\" stroke-opacity=\"0.250980\" d=\"M760.56,-156.94C659.7,-153.13 423.24,-140.94 228,-106 216.77,-103.99 204.6,-100.89 194.1,-97.92\"/>\n</g>\n<!-- subject.Subject&#45;&gt;subject.Subject.User -->\n<g id=\"edge13\" class=\"edge\">\n<title>subject.Subject-&gt;subject.Subject.User</title>\n<path fill=\"none\" stroke=\"#000000\" stroke-width=\"0.75\" stroke-opacity=\"0.250980\" d=\"M810,-141.8C810,-127.92 810,-108.75 810,-97.89\"/>\n</g>\n<!-- subject.Subject&#45;&gt;subject.Subject.Protocol -->\n<g id=\"edge14\" class=\"edge\">\n<title>subject.Subject-&gt;subject.Subject.Protocol</title>\n<path fill=\"none\" stroke=\"#000000\" stroke-width=\"0.75\" stroke-opacity=\"0.250980\" d=\"M842.78,-141.62C869.74,-127.74 906.81,-108.65 927.8,-97.84\"/>\n</g>\n<!-- subject.Subject&#45;&gt;subject.Subject.Source -->\n<g id=\"edge15\" class=\"edge\">\n<title>subject.Subject-&gt;subject.Subject.Source</title>\n<path fill=\"none\" stroke=\"#000000\" stroke-width=\"2\" stroke-opacity=\"0.250980\" d=\"M859.44,-146C914.45,-132.1 1001.83,-110.02 1049.42,-97.99\"/>\n</g>\n</g>\n</svg>",
      "text/plain": [
       "<datajoint.diagram.Diagram at 0x127678700>"
      ]
     },
     "execution_count": 14,
     "metadata": {},
     "output_type": "execute_result"
    }
   ],
   "source": [
    "dj.Diagram(subject)"
   ]
  },
  {
   "cell_type": "code",
   "execution_count": 16,
   "metadata": {},
   "outputs": [
    {
     "name": "stdout",
     "output_type": "stream",
     "text": [
      "subject              : varchar(8)                   \n",
      "---\n",
      "subject_nickname=\"\"  : varchar(64)                  \n",
      "sex                  : enum('M','F','U')            \n",
      "subject_birth_date   : date                         \n",
      "subject_description=\"\" : varchar(1024)                \n",
      "\n"
     ]
    },
    {
     "data": {
      "text/plain": [
       "'subject              : varchar(8)                   \\n---\\nsubject_nickname=\"\"  : varchar(64)                  \\nsex                  : enum(\\'M\\',\\'F\\',\\'U\\')            \\nsubject_birth_date   : date                         \\nsubject_description=\"\" : varchar(1024)                \\n'"
      ]
     },
     "execution_count": 16,
     "metadata": {},
     "output_type": "execute_result"
    }
   ],
   "source": [
    "subject.Subject.describe()"
   ]
  },
  {
   "cell_type": "code",
   "execution_count": 15,
   "metadata": {},
   "outputs": [
    {
     "data": {
      "image/svg+xml": "<svg xmlns=\"http://www.w3.org/2000/svg\" xmlns:xlink=\"http://www.w3.org/1999/xlink\" width=\"536pt\" height=\"185pt\" viewBox=\"0.00 0.00 536.00 185.00\">\n<g id=\"graph0\" class=\"graph\" transform=\"scale(1 1) rotate(0) translate(4 181)\">\n<polygon fill=\"white\" stroke=\"none\" points=\"-4,4 -4,-181 532,-181 532,4 -4,4\"/>\n<!-- 148 -->\n<g id=\"node1\" class=\"node\">\n<title>148</title>\n<ellipse fill=\"#ff8800\" fill-opacity=\"0.501961\" stroke=\"#ff8800\" stroke-opacity=\"0.501961\" cx=\"34.5\" cy=\"-88.5\" rx=\"2\" ry=\"2\"/>\n<text text-anchor=\"middle\" x=\"34.5\" y=\"-88.2\" font-family=\"arial\" font-size=\"1.00\" fill=\"#ff8800\" fill-opacity=\"0.501961\">148</text>\n</g>\n<!-- surgery.Implantation -->\n<g id=\"node4\" class=\"node\">\n<title>surgery.Implantation</title>\n<g id=\"a_node4\"><a xlink:title=\"→ subject.Subject\rimplant_date         \r→ surgery.ImplantationType\r→ surgery.BrainRegion\r→ surgery.Hemisphere\r------------------------------\r→ lab.User.proj(surgeon=&quot;user&quot;)\rap                   \r→ surgery.CoordinateReference.proj(ap_ref=&quot;reference&quot;)\rml                   \r→ surgery.CoordinateReference.proj(ml_ref=&quot;reference&quot;)\rdv                   \r→ surgery.CoordinateReference.proj(dv_ref=&quot;reference&quot;)\rtheta=null           \rphi=null             \rbeta=null            \r\">\n<polygon fill=\"#00ff00\" fill-opacity=\"0.188235\" stroke=\"#00ff00\" stroke-opacity=\"0.188235\" points=\"210.5,-35 86.5,-35 86.5,0 210.5,0 210.5,-35\"/>\n<text text-anchor=\"start\" x=\"94.5\" y=\"-15.4\" font-family=\"arial\" text-decoration=\"underline\" font-size=\"12.00\" fill=\"darkgreen\">surgery.Implantation</text>\n</a>\n</g>\n</g>\n<!-- 148&#45;&gt;surgery.Implantation -->\n<g id=\"edge1\" class=\"edge\">\n<title>148-&gt;surgery.Implantation</title>\n<path fill=\"none\" stroke=\"#000000\" stroke-width=\"0.75\" stroke-dasharray=\"5,2\" stroke-opacity=\"0.250980\" d=\"M35.14,-86.81C37.36,-84.41 45.05,-76.33 52.5,-71 71.5,-57.4 94.4,-44.75 113.07,-35.28\"/>\n</g>\n<!-- 150 -->\n<g id=\"node2\" class=\"node\">\n<title>150</title>\n<ellipse fill=\"#ff8800\" fill-opacity=\"0.501961\" stroke=\"#ff8800\" stroke-opacity=\"0.501961\" cx=\"71.5\" cy=\"-88.5\" rx=\"2\" ry=\"2\"/>\n<text text-anchor=\"middle\" x=\"71.5\" y=\"-88.2\" font-family=\"arial\" font-size=\"1.00\" fill=\"#ff8800\" fill-opacity=\"0.501961\">150</text>\n</g>\n<!-- 150&#45;&gt;surgery.Implantation -->\n<g id=\"edge2\" class=\"edge\">\n<title>150-&gt;surgery.Implantation</title>\n<path fill=\"none\" stroke=\"#000000\" stroke-width=\"0.75\" stroke-dasharray=\"5,2\" stroke-opacity=\"0.250980\" d=\"M72.18,-86.87C74.56,-84.66 82.7,-77.14 89.5,-71 102.73,-59.05 117.74,-45.7 129.3,-35.45\"/>\n</g>\n<!-- 149 -->\n<g id=\"node3\" class=\"node\">\n<title>149</title>\n<ellipse fill=\"#ff8800\" fill-opacity=\"0.501961\" stroke=\"#ff8800\" stroke-opacity=\"0.501961\" cx=\"108.5\" cy=\"-88.5\" rx=\"2\" ry=\"2\"/>\n<text text-anchor=\"middle\" x=\"108.5\" y=\"-88.2\" font-family=\"arial\" font-size=\"1.00\" fill=\"#ff8800\" fill-opacity=\"0.501961\">149</text>\n</g>\n<!-- 149&#45;&gt;surgery.Implantation -->\n<g id=\"edge3\" class=\"edge\">\n<title>149-&gt;surgery.Implantation</title>\n<path fill=\"none\" stroke=\"#000000\" stroke-width=\"0.75\" stroke-dasharray=\"5,2\" stroke-opacity=\"0.250980\" d=\"M108.95,-86.73C111.83,-81.75 127.97,-53.92 138.71,-35.38\"/>\n</g>\n<!-- surgery.Hemisphere -->\n<g id=\"node5\" class=\"node\">\n<title>surgery.Hemisphere</title>\n<g id=\"a_node5\"><a xlink:title=\"hemisphere           \r\">\n<polygon fill=\"#000000\" fill-opacity=\"0.125490\" stroke=\"none\" points=\"240.5,-106 136.5,-106 136.5,-71 240.5,-71 240.5,-106\"/>\n<text text-anchor=\"start\" x=\"144.5\" y=\"-87\" font-family=\"arial\" text-decoration=\"underline\" font-size=\"10.00\">surgery.Hemisphere</text>\n</a>\n</g>\n</g>\n<!-- surgery.Hemisphere&#45;&gt;surgery.Implantation -->\n<g id=\"edge4\" class=\"edge\">\n<title>surgery.Hemisphere-&gt;surgery.Implantation</title>\n<path fill=\"none\" stroke=\"#000000\" stroke-width=\"0.75\" stroke-opacity=\"0.250980\" d=\"M179.02,-71.15C172.74,-60.31 164.52,-46.13 158.19,-35.21\"/>\n</g>\n<!-- surgery.CoordinateReference -->\n<g id=\"node6\" class=\"node\">\n<title>surgery.CoordinateReference</title>\n<g id=\"a_node6\"><a xlink:title=\"reference            \r\">\n<polygon fill=\"#000000\" fill-opacity=\"0.125490\" stroke=\"none\" points=\"143,-177 0,-177 0,-142 143,-142 143,-177\"/>\n<text text-anchor=\"start\" x=\"8\" y=\"-158\" font-family=\"arial\" text-decoration=\"underline\" font-size=\"10.00\">surgery.CoordinateReference</text>\n</a>\n</g>\n</g>\n<!-- surgery.CoordinateReference&#45;&gt;148 -->\n<g id=\"edge5\" class=\"edge\">\n<title>surgery.CoordinateReference-&gt;148</title>\n<path fill=\"none\" stroke=\"#000000\" stroke-width=\"0.75\" stroke-dasharray=\"5,2\" stroke-opacity=\"0.250980\" d=\"M62.73,-142.15C52.82,-123.66 37.69,-95.44 34.94,-90.31\"/>\n</g>\n<!-- surgery.CoordinateReference&#45;&gt;150 -->\n<g id=\"edge7\" class=\"edge\">\n<title>surgery.CoordinateReference-&gt;150</title>\n<path fill=\"none\" stroke=\"#000000\" stroke-width=\"0.75\" stroke-dasharray=\"5,2\" stroke-opacity=\"0.250980\" d=\"M71.5,-142.15C71.5,-123.66 71.5,-95.44 71.5,-90.31\"/>\n</g>\n<!-- surgery.CoordinateReference&#45;&gt;149 -->\n<g id=\"edge6\" class=\"edge\">\n<title>surgery.CoordinateReference-&gt;149</title>\n<path fill=\"none\" stroke=\"#000000\" stroke-width=\"0.75\" stroke-dasharray=\"5,2\" stroke-opacity=\"0.250980\" d=\"M80.27,-142.15C90.18,-123.66 105.31,-95.44 108.06,-90.31\"/>\n</g>\n<!-- surgery.BrainRegion -->\n<g id=\"node7\" class=\"node\">\n<title>surgery.BrainRegion</title>\n<g id=\"a_node7\"><a xlink:title=\"region_acronym       \r------------------------------\rregion_name          \r\">\n<polygon fill=\"#00ff00\" fill-opacity=\"0.188235\" stroke=\"#00ff00\" stroke-opacity=\"0.188235\" points=\"384.5,-106 258.5,-106 258.5,-71 384.5,-71 384.5,-106\"/>\n<text text-anchor=\"start\" x=\"266.5\" y=\"-86.4\" font-family=\"arial\" text-decoration=\"underline\" font-size=\"12.00\" fill=\"darkgreen\">surgery.BrainRegion</text>\n</a>\n</g>\n</g>\n<!-- surgery.BrainRegion&#45;&gt;surgery.Implantation -->\n<g id=\"edge8\" class=\"edge\">\n<title>surgery.BrainRegion-&gt;surgery.Implantation</title>\n<path fill=\"none\" stroke=\"#000000\" stroke-width=\"0.75\" stroke-opacity=\"0.250980\" d=\"M279.18,-70.62C252.37,-59.93 217.82,-46.15 190.98,-35.44\"/>\n</g>\n<!-- surgery.ImplantationType -->\n<g id=\"node8\" class=\"node\">\n<title>surgery.ImplantationType</title>\n<g id=\"a_node8\"><a xlink:title=\"implant_type         \r------------------------------\rimplant_description  \r\">\n<polygon fill=\"#000000\" fill-opacity=\"0.125490\" stroke=\"none\" points=\"528,-106 403,-106 403,-71 528,-71 528,-106\"/>\n<text text-anchor=\"start\" x=\"411\" y=\"-87\" font-family=\"arial\" text-decoration=\"underline\" font-size=\"10.00\">surgery.ImplantationType</text>\n</a>\n</g>\n</g>\n<!-- surgery.ImplantationType&#45;&gt;surgery.Implantation -->\n<g id=\"edge9\" class=\"edge\">\n<title>surgery.ImplantationType-&gt;surgery.Implantation</title>\n<path fill=\"none\" stroke=\"#000000\" stroke-width=\"0.75\" stroke-opacity=\"0.250980\" d=\"M403.07,-73.14C399.84,-72.41 396.63,-71.69 393.5,-71 331.5,-57.25 260.53,-42.11 210.99,-31.63\"/>\n</g>\n</g>\n</svg>",
      "text/plain": [
       "<datajoint.diagram.Diagram at 0x1276f6b50>"
      ]
     },
     "execution_count": 15,
     "metadata": {},
     "output_type": "execute_result"
    }
   ],
   "source": [
    "dj.Diagram(surgery)"
   ]
  },
  {
   "cell_type": "markdown",
   "metadata": {},
   "source": [
    "[`session`](https://datajoint.com/docs/elements/element-session/): General information of experimental sessions.\n"
   ]
  },
  {
   "cell_type": "code",
   "execution_count": 17,
   "metadata": {},
   "outputs": [
    {
     "data": {
      "image/svg+xml": "<svg xmlns=\"http://www.w3.org/2000/svg\" xmlns:xlink=\"http://www.w3.org/1999/xlink\" width=\"808pt\" height=\"114pt\" viewBox=\"0.00 0.00 808.00 114.00\">\n<g id=\"graph0\" class=\"graph\" transform=\"scale(1 1) rotate(0) translate(4 110)\">\n<polygon fill=\"white\" stroke=\"none\" points=\"-4,4 -4,-110 804,-110 804,4 -4,4\"/>\n<!-- session.Session.Attribute -->\n<g id=\"node1\" class=\"node\">\n<title>session.Session.Attribute</title>\n<g id=\"a_node1\"><a xlink:title=\"→ session.Session\rattribute_name       \r------------------------------\rattribute_value=&quot;&quot;   \rattribute_blob=null  \r\">\n<polygon fill=\"none\" stroke=\"none\" points=\"128,-27 0,-27 0,-8 128,-8 128,-27\"/>\n<text text-anchor=\"start\" x=\"8\" y=\"-16\" font-family=\"arial\" text-decoration=\"underline\" font-size=\"10.00\">session.Session.Attribute</text>\n</a>\n</g>\n</g>\n<!-- session.Session -->\n<g id=\"node2\" class=\"node\">\n<title>session.Session</title>\n<g id=\"a_node2\"><a xlink:title=\"→ subject.Subject\rsession_id           \r------------------------------\rsession_datetime     \r\">\n<polygon fill=\"#00ff00\" fill-opacity=\"0.188235\" stroke=\"#00ff00\" stroke-opacity=\"0.188235\" points=\"274,-106 170,-106 170,-71 274,-71 274,-106\"/>\n<text text-anchor=\"start\" x=\"178\" y=\"-86.4\" font-family=\"arial\" text-decoration=\"underline\" font-size=\"12.00\" fill=\"darkgreen\">session.Session</text>\n</a>\n</g>\n</g>\n<!-- session.Session&#45;&gt;session.Session.Attribute -->\n<g id=\"edge1\" class=\"edge\">\n<title>session.Session-&gt;session.Session.Attribute</title>\n<path fill=\"none\" stroke=\"#000000\" stroke-width=\"0.75\" stroke-opacity=\"0.250980\" d=\"M183.35,-70.62C151.56,-56.74 107.85,-37.65 83.11,-26.84\"/>\n</g>\n<!-- session.SessionDirectory -->\n<g id=\"node3\" class=\"node\">\n<title>session.SessionDirectory</title>\n<g id=\"a_node3\"><a xlink:title=\"→ session.Session\r------------------------------\rsession_dir          \r\">\n<polygon fill=\"#00ff00\" fill-opacity=\"0.188235\" stroke=\"#00ff00\" stroke-opacity=\"0.188235\" points=\"298,-35 146,-35 146,0 298,0 298,-35\"/>\n<text text-anchor=\"middle\" x=\"222\" y=\"-14.4\" font-family=\"arial\" font-size=\"12.00\" fill=\"darkgreen\">session.SessionDirectory</text>\n</a>\n</g>\n</g>\n<!-- session.Session&#45;&gt;session.SessionDirectory -->\n<g id=\"edge2\" class=\"edge\">\n<title>session.Session-&gt;session.SessionDirectory</title>\n<path fill=\"none\" stroke=\"#000000\" stroke-width=\"2\" stroke-opacity=\"0.250980\" d=\"M222,-70.8C222,-59.95 222,-45.87 222,-35.05\"/>\n</g>\n<!-- session.SessionExperimenter -->\n<g id=\"node4\" class=\"node\">\n<title>session.SessionExperimenter</title>\n<g id=\"a_node4\"><a xlink:title=\"→ session.Session\r→ lab.User\r\">\n<polygon fill=\"#00ff00\" fill-opacity=\"0.188235\" stroke=\"#00ff00\" stroke-opacity=\"0.188235\" points=\"492,-35 316,-35 316,0 492,0 492,-35\"/>\n<text text-anchor=\"middle\" x=\"404\" y=\"-14.4\" font-family=\"arial\" font-size=\"12.00\" fill=\"darkgreen\">session.SessionExperimenter</text>\n</a>\n</g>\n</g>\n<!-- session.Session&#45;&gt;session.SessionExperimenter -->\n<g id=\"edge3\" class=\"edge\">\n<title>session.Session-&gt;session.SessionExperimenter</title>\n<path fill=\"none\" stroke=\"#000000\" stroke-width=\"0.75\" stroke-opacity=\"0.250980\" d=\"M266.52,-70.62C294.73,-59.93 331.07,-46.15 359.31,-35.44\"/>\n</g>\n<!-- session.SessionNote -->\n<g id=\"node5\" class=\"node\">\n<title>session.SessionNote</title>\n<g id=\"a_node5\"><a xlink:title=\"→ session.Session\r------------------------------\rsession_note         \r\">\n<polygon fill=\"#00ff00\" fill-opacity=\"0.188235\" stroke=\"#00ff00\" stroke-opacity=\"0.188235\" points=\"640,-35 510,-35 510,0 640,0 640,-35\"/>\n<text text-anchor=\"middle\" x=\"575\" y=\"-14.4\" font-family=\"arial\" font-size=\"12.00\" fill=\"darkgreen\">session.SessionNote</text>\n</a>\n</g>\n</g>\n<!-- session.Session&#45;&gt;session.SessionNote -->\n<g id=\"edge4\" class=\"edge\">\n<title>session.Session-&gt;session.SessionNote</title>\n<path fill=\"none\" stroke=\"#000000\" stroke-width=\"2\" stroke-opacity=\"0.250980\" d=\"M274.29,-78.2C330.43,-68.09 422.19,-51.2 501,-35 503.84,-34.42 506.73,-33.81 509.66,-33.19\"/>\n</g>\n<!-- session.ProjectSession -->\n<g id=\"node6\" class=\"node\">\n<title>session.ProjectSession</title>\n<g id=\"a_node6\"><a xlink:title=\"→ lab.Project\r→ session.Session\r\">\n<polygon fill=\"#00ff00\" fill-opacity=\"0.188235\" stroke=\"#00ff00\" stroke-opacity=\"0.188235\" points=\"800,-35 658,-35 658,0 800,0 800,-35\"/>\n<text text-anchor=\"middle\" x=\"729\" y=\"-14.4\" font-family=\"arial\" font-size=\"12.00\" fill=\"darkgreen\">session.ProjectSession</text>\n</a>\n</g>\n</g>\n<!-- session.Session&#45;&gt;session.ProjectSession -->\n<g id=\"edge5\" class=\"edge\">\n<title>session.Session-&gt;session.ProjectSession</title>\n<path fill=\"none\" stroke=\"#000000\" stroke-width=\"0.75\" stroke-opacity=\"0.250980\" d=\"M274.45,-82.43C355.19,-74.33 514.68,-57.07 649,-35 651.8,-34.54 654.65,-34.05 657.52,-33.54\"/>\n</g>\n</g>\n</svg>",
      "text/plain": [
       "<datajoint.diagram.Diagram at 0x127752dc0>"
      ]
     },
     "execution_count": 17,
     "metadata": {},
     "output_type": "execute_result"
    }
   ],
   "source": [
    "dj.Diagram(session)"
   ]
  },
  {
   "cell_type": "code",
   "execution_count": 18,
   "metadata": {},
   "outputs": [
    {
     "name": "stdout",
     "output_type": "stream",
     "text": [
      "-> subject.Subject\n",
      "session_id           : int                          \n",
      "---\n",
      "session_datetime     : datetime                     \n",
      "\n"
     ]
    },
    {
     "data": {
      "text/plain": [
       "'-> subject.Subject\\nsession_id           : int                          \\n---\\nsession_datetime     : datetime                     \\n'"
      ]
     },
     "execution_count": 18,
     "metadata": {},
     "output_type": "execute_result"
    }
   ],
   "source": [
    "session.Session.describe()"
   ]
  },
  {
   "cell_type": "markdown",
   "metadata": {},
   "source": [
    "[`opto`](https://github.com/datajoint/element-optogenetics): Optogenetics stimulus and timing data\n"
   ]
  },
  {
   "cell_type": "code",
   "execution_count": 19,
   "metadata": {},
   "outputs": [
    {
     "data": {
      "image/svg+xml": "<svg xmlns=\"http://www.w3.org/2000/svg\" xmlns:xlink=\"http://www.w3.org/1999/xlink\" width=\"594pt\" height=\"327pt\" viewBox=\"0.00 0.00 593.50 327.00\">\n<g id=\"graph0\" class=\"graph\" transform=\"scale(1 1) rotate(0) translate(4 323)\">\n<polygon fill=\"white\" stroke=\"none\" points=\"-4,4 -4,-323 589.5,-323 589.5,4 -4,4\"/>\n<!-- opto.OptoProtocol -->\n<g id=\"node1\" class=\"node\">\n<title>opto.OptoProtocol</title>\n<g id=\"a_node1\"><a xlink:title=\"→ session.Session\rprotocol_id          \r------------------------------\r→ opto.OptoStimParams\r→ surgery.Implantation\r→ [nullable] Device\r\">\n<polygon fill=\"#00ff00\" fill-opacity=\"0.188235\" stroke=\"#00ff00\" stroke-opacity=\"0.188235\" points=\"123.5,-106 10.5,-106 10.5,-71 123.5,-71 123.5,-106\"/>\n<text text-anchor=\"start\" x=\"18.5\" y=\"-86.4\" font-family=\"arial\" text-decoration=\"underline\" font-size=\"12.00\" fill=\"darkgreen\">opto.OptoProtocol</text>\n</a>\n</g>\n</g>\n<!-- opto.OptoEvent -->\n<g id=\"node5\" class=\"node\">\n<title>opto.OptoEvent</title>\n<g id=\"a_node5\"><a xlink:title=\"→ opto.OptoProtocol\rstim_start_time      \r------------------------------\rstim_end_time        \r\">\n<polygon fill=\"#00ff00\" fill-opacity=\"0.188235\" stroke=\"#00ff00\" stroke-opacity=\"0.188235\" points=\"116.5,-35 17.5,-35 17.5,0 116.5,0 116.5,-35\"/>\n<text text-anchor=\"start\" x=\"25.5\" y=\"-15.4\" font-family=\"arial\" text-decoration=\"underline\" font-size=\"12.00\" fill=\"darkgreen\">opto.OptoEvent</text>\n</a>\n</g>\n</g>\n<!-- opto.OptoProtocol&#45;&gt;opto.OptoEvent -->\n<g id=\"edge1\" class=\"edge\">\n<title>opto.OptoProtocol-&gt;opto.OptoEvent</title>\n<path fill=\"none\" stroke=\"#000000\" stroke-width=\"0.75\" stroke-opacity=\"0.250980\" d=\"M67,-70.8C67,-59.95 67,-45.87 67,-35.05\"/>\n</g>\n<!-- opto.OptoWaveform -->\n<g id=\"node2\" class=\"node\">\n<title>opto.OptoWaveform</title>\n<g id=\"a_node2\"><a xlink:title=\"waveform_name        \r------------------------------\r→ opto.OptoWaveformType\rnormalized_waveform=null \rwaveform_description=&quot;&quot; \r\">\n<polygon fill=\"#000000\" fill-opacity=\"0.125490\" stroke=\"none\" points=\"419,-248 315,-248 315,-213 419,-213 419,-248\"/>\n<text text-anchor=\"start\" x=\"323\" y=\"-229\" font-family=\"arial\" text-decoration=\"underline\" font-size=\"10.00\">opto.OptoWaveform</text>\n</a>\n</g>\n</g>\n<!-- opto.OptoStimParams -->\n<g id=\"node3\" class=\"node\">\n<title>opto.OptoStimParams</title>\n<g id=\"a_node3\"><a xlink:title=\"opto_params_id       \r------------------------------\r→ opto.OptoWaveform\rwavelength           \rpower=null           \rlight_intensity=null \rfrequency            \rduration             \rprotocol_description=&quot;&quot; \r\">\n<polygon fill=\"#00ff00\" fill-opacity=\"0.188235\" stroke=\"#00ff00\" stroke-opacity=\"0.188235\" points=\"134,-177 0,-177 0,-142 134,-142 134,-177\"/>\n<text text-anchor=\"start\" x=\"8\" y=\"-157.4\" font-family=\"arial\" text-decoration=\"underline\" font-size=\"12.00\" fill=\"darkgreen\">opto.OptoStimParams</text>\n</a>\n</g>\n</g>\n<!-- opto.OptoWaveform&#45;&gt;opto.OptoStimParams -->\n<g id=\"edge2\" class=\"edge\">\n<title>opto.OptoWaveform-&gt;opto.OptoStimParams</title>\n<path fill=\"none\" stroke=\"#000000\" stroke-width=\"0.75\" stroke-dasharray=\"5,2\" stroke-opacity=\"0.250980\" d=\"M315.09,-217.56C265.03,-206.05 189.01,-188.56 134.32,-175.98\"/>\n</g>\n<!-- opto.OptoWaveform.Ramp -->\n<g id=\"node4\" class=\"node\">\n<title>opto.OptoWaveform.Ramp</title>\n<g id=\"a_node4\"><a xlink:title=\"→ opto.OptoWaveform\r------------------------------\rramp_up_proportion   \rramp_down_proportion \r\">\n<polygon fill=\"none\" stroke=\"none\" points=\"285.5,-169 152.5,-169 152.5,-150 285.5,-150 285.5,-169\"/>\n<text text-anchor=\"middle\" x=\"219\" y=\"-157\" font-family=\"arial\" font-size=\"10.00\">opto.OptoWaveform.Ramp</text>\n</a>\n</g>\n</g>\n<!-- opto.OptoWaveform&#45;&gt;opto.OptoWaveform.Ramp -->\n<g id=\"edge3\" class=\"edge\">\n<title>opto.OptoWaveform-&gt;opto.OptoWaveform.Ramp</title>\n<path fill=\"none\" stroke=\"#000000\" stroke-width=\"2\" stroke-opacity=\"0.250980\" d=\"M331.93,-213.15C302.18,-199.28 260.7,-179.94 237.18,-168.98\"/>\n</g>\n<!-- opto.OptoWaveform.Sine -->\n<g id=\"node7\" class=\"node\">\n<title>opto.OptoWaveform.Sine</title>\n<g id=\"a_node7\"><a xlink:title=\"→ opto.OptoWaveform\r------------------------------\rnumber_of_cycles     \rstarting_phase=0.00  \r\">\n<polygon fill=\"none\" stroke=\"none\" points=\"430,-169 304,-169 304,-150 430,-150 430,-169\"/>\n<text text-anchor=\"middle\" x=\"367\" y=\"-157\" font-family=\"arial\" font-size=\"10.00\">opto.OptoWaveform.Sine</text>\n</a>\n</g>\n</g>\n<!-- opto.OptoWaveform&#45;&gt;opto.OptoWaveform.Sine -->\n<g id=\"edge4\" class=\"edge\">\n<title>opto.OptoWaveform-&gt;opto.OptoWaveform.Sine</title>\n<path fill=\"none\" stroke=\"#000000\" stroke-width=\"2\" stroke-opacity=\"0.250980\" d=\"M367,-213.15C367,-199.28 367,-179.94 367,-168.98\"/>\n</g>\n<!-- opto.OptoWaveform.Square -->\n<g id=\"node8\" class=\"node\">\n<title>opto.OptoWaveform.Square</title>\n<g id=\"a_node8\"><a xlink:title=\"→ opto.OptoWaveform\r------------------------------\ron_proportion        \roff_proportion       \r\">\n<polygon fill=\"none\" stroke=\"none\" points=\"585.5,-169 448.5,-169 448.5,-150 585.5,-150 585.5,-169\"/>\n<text text-anchor=\"middle\" x=\"517\" y=\"-157\" font-family=\"arial\" font-size=\"10.00\">opto.OptoWaveform.Square</text>\n</a>\n</g>\n</g>\n<!-- opto.OptoWaveform&#45;&gt;opto.OptoWaveform.Square -->\n<g id=\"edge5\" class=\"edge\">\n<title>opto.OptoWaveform-&gt;opto.OptoWaveform.Square</title>\n<path fill=\"none\" stroke=\"#000000\" stroke-width=\"2\" stroke-opacity=\"0.250980\" d=\"M402.55,-213.15C432.7,-199.28 474.74,-179.94 498.57,-168.98\"/>\n</g>\n<!-- opto.OptoStimParams&#45;&gt;opto.OptoProtocol -->\n<g id=\"edge6\" class=\"edge\">\n<title>opto.OptoStimParams-&gt;opto.OptoProtocol</title>\n<path fill=\"none\" stroke=\"#000000\" stroke-width=\"0.75\" stroke-dasharray=\"5,2\" stroke-opacity=\"0.250980\" d=\"M67,-141.8C67,-130.95 67,-116.87 67,-106.05\"/>\n</g>\n<!-- opto.OptoWaveformType -->\n<g id=\"node6\" class=\"node\">\n<title>opto.OptoWaveformType</title>\n<g id=\"a_node6\"><a xlink:title=\"waveform_type        \r\">\n<polygon fill=\"#000000\" fill-opacity=\"0.125490\" stroke=\"none\" points=\"429.5,-319 304.5,-319 304.5,-284 429.5,-284 429.5,-319\"/>\n<text text-anchor=\"start\" x=\"312.5\" y=\"-300\" font-family=\"arial\" text-decoration=\"underline\" font-size=\"10.00\">opto.OptoWaveformType</text>\n</a>\n</g>\n</g>\n<!-- opto.OptoWaveformType&#45;&gt;opto.OptoWaveform -->\n<g id=\"edge7\" class=\"edge\">\n<title>opto.OptoWaveformType-&gt;opto.OptoWaveform</title>\n<path fill=\"none\" stroke=\"#000000\" stroke-width=\"0.75\" stroke-dasharray=\"5,2\" stroke-opacity=\"0.250980\" d=\"M367,-284.15C367,-273.15 367,-258.71 367,-247.73\"/>\n</g>\n</g>\n</svg>",
      "text/plain": [
       "<datajoint.diagram.Diagram at 0x127809f10>"
      ]
     },
     "execution_count": 19,
     "metadata": {},
     "output_type": "execute_result"
    }
   ],
   "source": [
    "dj.Diagram(opto)"
   ]
  },
  {
   "cell_type": "markdown",
   "metadata": {},
   "source": [
    "## Summary and next step\n",
    "\n",
    "- This notebook introduced the overall structures of the schemas and tables in the workflow and relevant tools to explore the schema structure and table definitions.\n",
    "\n",
    "- In the next notebook [03-process](03-process.ipynb), we will introduce the detailed steps to run through `workflow-optogenetics`.\n"
   ]
  }
 ],
 "metadata": {
  "jupytext": {
   "encoding": "# -*- coding: utf-8 -*-"
  },
  "kernelspec": {
   "display_name": "Python 3.9.13 ('ele')",
   "language": "python",
   "name": "python3"
  },
  "language_info": {
   "codemirror_mode": {
    "name": "ipython",
    "version": 3
   },
   "file_extension": ".py",
   "mimetype": "text/x-python",
   "name": "python",
   "nbconvert_exporter": "python",
   "pygments_lexer": "ipython3",
   "version": "3.9.16"
  },
  "vscode": {
   "interpreter": {
    "hash": "d00c4ad21a7027bf1726d6ae3a9a6ef39c8838928eca5a3d5f51f3eb68720410"
   }
  }
 },
 "nbformat": 4,
 "nbformat_minor": 4
}
